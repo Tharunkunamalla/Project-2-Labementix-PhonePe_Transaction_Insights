{
  "nbformat": 4,
  "nbformat_minor": 0,
  "metadata": {
    "colab": {
      "private_outputs": true,
      "provenance": [],
      "collapsed_sections": [
        "vncDsAP0Gaoa",
        "FJNUwmbgGyua",
        "w6K7xa23Elo4",
        "yQaldy8SH6Dl",
        "mDgbUHAGgjLW",
        "g-ATYxFrGrvw",
        "GMQiZwjn3iu7",
        "WVIkgGqN3qsr",
        "C74aWNz2AliB",
        "TfvqoZmBfxKf",
        "EyNgTHvd2WFk",
        "KH5McJBi2d8v",
        "iW_Lq9qf2h6X",
        "-Kee-DAl2viO",
        "gIfDvo9L0UH2"
      ],
      "include_colab_link": true
    },
    "kernelspec": {
      "name": "python3",
      "display_name": "Python 3"
    },
    "language_info": {
      "name": "python"
    }
  },
  "cells": [
    {
      "cell_type": "markdown",
      "metadata": {
        "id": "view-in-github",
        "colab_type": "text"
      },
      "source": [
        "<a href=\"https://colab.research.google.com/github/Tharunkunamalla/Project-2-Labementix-PhonePe_Transaction_Insights/blob/main/phonepe_Transactions_Insights.ipynb\" target=\"_parent\"><img src=\"https://colab.research.google.com/assets/colab-badge.svg\" alt=\"Open In Colab\"/></a>"
      ]
    },
    {
      "cell_type": "markdown",
      "source": [
        "# **Project Name**    -\n",
        "\n"
      ],
      "metadata": {
        "id": "vncDsAP0Gaoa"
      }
    },
    {
      "cell_type": "markdown",
      "source": [
        "##### **Project Type**    - EDA/Regression/Classification/Unsupervised\n",
        "##### **Contribution**    - Individual/Team\n",
        "##### **Team Member 1 -**\n",
        "##### **Team Member 2 -**\n",
        "##### **Team Member 3 -**\n",
        "##### **Team Member 4 -**"
      ],
      "metadata": {
        "id": "beRrZCGUAJYm"
      }
    },
    {
      "cell_type": "markdown",
      "source": [
        "# **Project Summary -**"
      ],
      "metadata": {
        "id": "FJNUwmbgGyua"
      }
    },
    {
      "cell_type": "markdown",
      "source": [
        "Write the summary here within 500-600 words."
      ],
      "metadata": {
        "id": "F6v_1wHtG2nS"
      }
    },
    {
      "cell_type": "markdown",
      "source": [
        "# **GitHub Link -**"
      ],
      "metadata": {
        "id": "w6K7xa23Elo4"
      }
    },
    {
      "cell_type": "markdown",
      "source": [
        "Provide your GitHub Link here."
      ],
      "metadata": {
        "id": "h1o69JH3Eqqn"
      }
    },
    {
      "cell_type": "markdown",
      "source": [
        "# **Problem Statement**\n"
      ],
      "metadata": {
        "id": "yQaldy8SH6Dl"
      }
    },
    {
      "cell_type": "markdown",
      "source": [
        "**Write Problem Statement Here.**"
      ],
      "metadata": {
        "id": "DpeJGUA3kjGy"
      }
    },
    {
      "cell_type": "markdown",
      "source": [
        "# **General Guidelines** : -  "
      ],
      "metadata": {
        "id": "mDgbUHAGgjLW"
      }
    },
    {
      "cell_type": "markdown",
      "source": [
        "1.   Well-structured, formatted, and commented code is required.\n",
        "2.   Exception Handling, Production Grade Code & Deployment Ready Code will be a plus. Those students will be awarded some additional credits.\n",
        "     \n",
        "     The additional credits will have advantages over other students during Star Student selection.\n",
        "       \n",
        "             [ Note: - Deployment Ready Code is defined as, the whole .ipynb notebook should be executable in one go\n",
        "                       without a single error logged. ]\n",
        "\n",
        "3.   Each and every logic should have proper comments.\n",
        "4. You may add as many number of charts you want. Make Sure for each and every chart the following format should be answered.\n",
        "        \n",
        "\n",
        "```\n",
        "# Chart visualization code\n",
        "```\n",
        "            \n",
        "\n",
        "*   Why did you pick the specific chart?\n",
        "*   What is/are the insight(s) found from the chart?\n",
        "* Will the gained insights help creating a positive business impact?\n",
        "Are there any insights that lead to negative growth? Justify with specific reason.\n",
        "\n",
        "5. You have to create at least 15 logical & meaningful charts having important insights.\n",
        "\n",
        "\n",
        "[ Hints : - Do the Vizualization in  a structured way while following \"UBM\" Rule.\n",
        "\n",
        "U - Univariate Analysis,\n",
        "\n",
        "B - Bivariate Analysis (Numerical - Categorical, Numerical - Numerical, Categorical - Categorical)\n",
        "\n",
        "M - Multivariate Analysis\n",
        " ]\n",
        "\n",
        "\n",
        "\n",
        "\n",
        "\n",
        "6. You may add more ml algorithms for model creation. Make sure for each and every algorithm, the following format should be answered.\n",
        "\n",
        "\n",
        "*   Explain the ML Model used and it's performance using Evaluation metric Score Chart.\n",
        "\n",
        "\n",
        "*   Cross- Validation & Hyperparameter Tuning\n",
        "\n",
        "*   Have you seen any improvement? Note down the improvement with updates Evaluation metric Score Chart.\n",
        "\n",
        "*   Explain each evaluation metric's indication towards business and the business impact pf the ML model used.\n",
        "\n",
        "\n",
        "\n",
        "\n",
        "\n",
        "\n",
        "\n",
        "\n",
        "\n",
        "\n",
        "\n",
        "\n",
        "\n",
        "\n",
        "\n",
        "\n",
        "\n",
        "\n"
      ],
      "metadata": {
        "id": "ZrxVaUj-hHfC"
      }
    },
    {
      "cell_type": "markdown",
      "source": [
        "# ***Let's Begin !***"
      ],
      "metadata": {
        "id": "O_i_v8NEhb9l"
      }
    },
    {
      "cell_type": "markdown",
      "source": [
        "## ***1. Know Your Data***"
      ],
      "metadata": {
        "id": "HhfV-JJviCcP"
      }
    },
    {
      "cell_type": "markdown",
      "source": [
        "### Import Libraries"
      ],
      "metadata": {
        "id": "Y3lxredqlCYt"
      }
    },
    {
      "cell_type": "code",
      "source": [
        "# Import Libraries\n",
        "import pandas as pd\n",
        "import numpy as np\n",
        "import matplotlib.pyplot as plt\n",
        "import seaborn as sns"
      ],
      "metadata": {
        "id": "M8Vqi-pPk-HR"
      },
      "execution_count": null,
      "outputs": []
    },
    {
      "cell_type": "markdown",
      "source": [
        "### Dataset Loading"
      ],
      "metadata": {
        "id": "3RnN4peoiCZX"
      }
    },
    {
      "cell_type": "code",
      "source": [
        "# Load Dataset\n",
        "# Load Dataset\n",
        "agg_ins_df = pd.read_csv('/content/sample_data/aggregated_insurance.csv')\n",
        "agg_trans_df = pd.read_csv('/content/sample_data/aggregated_transaction.csv')\n",
        "agg_user_df = pd.read_csv('/content/sample_data/aggregated_user.csv')\n",
        "map_ins_df = pd.read_csv('/content/sample_data/map_insurance.csv')\n",
        "map_trans_df = pd.read_csv('/content/sample_data/map_transaction.csv')\n",
        "map_user_df = pd.read_csv('/content/sample_data/map_user.csv')\n",
        "top_ins_df = pd.read_csv('/content/sample_data/top_insurance.csv')\n",
        "top_trans_df = pd.read_csv('/content/sample_data/top_transaction.csv')\n",
        "top_user_df = pd.read_csv('/content/sample_data/top_user.csv')"
      ],
      "metadata": {
        "id": "4CkvbW_SlZ_R"
      },
      "execution_count": null,
      "outputs": []
    },
    {
      "cell_type": "markdown",
      "source": [
        "### Dataset First View"
      ],
      "metadata": {
        "id": "x71ZqKXriCWQ"
      }
    },
    {
      "cell_type": "code",
      "source": [
        "# Dataset First Look\n",
        "print(\"Aggregated: \\n\")\n",
        "print(agg_ins_df.head())\n",
        "print(agg_trans_df.head())\n",
        "print(agg_user_df.head())\n",
        "print(\"Map: \\n\")\n",
        "print(map_ins_df.head())\n",
        "print(map_trans_df.head())\n",
        "print(map_user_df.head())\n",
        "print(\"Top : \\n\")\n",
        "print(top_ins_df.head())\n",
        "print(top_trans_df.head())\n",
        "print(top_user_df.head())"
      ],
      "metadata": {
        "id": "LWNFOSvLl09H"
      },
      "execution_count": null,
      "outputs": []
    },
    {
      "cell_type": "markdown",
      "source": [
        "### Dataset Rows & Columns count"
      ],
      "metadata": {
        "id": "7hBIi_osiCS2"
      }
    },
    {
      "cell_type": "code",
      "source": [
        "# Dataset Rows & Columns count\n",
        "# Dataset Rows & Columns count\n",
        "# Print rows and columns count\n",
        "dfs = {\n",
        "    'Aggregated Insurance': agg_ins_df,\n",
        "    'Aggregated Transactions': agg_trans_df,\n",
        "    'Aggregated Users': agg_user_df,\n",
        "    'Map Insurance': map_ins_df,\n",
        "    'Map Transactions': map_trans_df,\n",
        "    'Map Users': map_user_df,\n",
        "    'Top Insurance': top_ins_df,\n",
        "    'Top Transactions': top_trans_df,\n",
        "}\n",
        "\n",
        "for name, df in dfs.items():\n",
        "    print(f\"{name}: {df.shape[0]} rows × {df.shape[1]} columns\")"
      ],
      "metadata": {
        "id": "Kllu7SJgmLij"
      },
      "execution_count": null,
      "outputs": []
    },
    {
      "cell_type": "markdown",
      "source": [
        "### Dataset Information"
      ],
      "metadata": {
        "id": "JlHwYmJAmNHm"
      }
    },
    {
      "cell_type": "code",
      "source": [
        "# Dataset Info\n",
        "# Gets the info of all files\n",
        "for name, df in dfs.items():\n",
        "    print(f\"\\n {name} Info:\")\n",
        "    display(df.info())"
      ],
      "metadata": {
        "id": "e9hRXRi6meOf"
      },
      "execution_count": null,
      "outputs": []
    },
    {
      "cell_type": "markdown",
      "source": [
        "#### Duplicate Values"
      ],
      "metadata": {
        "id": "35m5QtbWiB9F"
      }
    },
    {
      "cell_type": "code",
      "source": [
        "# Dataset Duplicate Value Count\n",
        "print(\" Duplicate Rows:\", df.duplicated().sum())"
      ],
      "metadata": {
        "id": "1sLdpKYkmox0"
      },
      "execution_count": null,
      "outputs": []
    },
    {
      "cell_type": "markdown",
      "source": [
        "#### Missing Values/Null Values"
      ],
      "metadata": {
        "id": "PoPl-ycgm1ru"
      }
    },
    {
      "cell_type": "code",
      "source": [
        "# Missing Values/Null Values Count\n",
        "print(\"Null Values:\\n\", df.isnull().sum())"
      ],
      "metadata": {
        "id": "GgHWkxvamxVg"
      },
      "execution_count": null,
      "outputs": []
    },
    {
      "cell_type": "code",
      "source": [
        "# Visualizing the missing values\n",
        "sns.heatmap(df.isnull(), cbar=False)"
      ],
      "metadata": {
        "id": "3q5wnI3om9sJ"
      },
      "execution_count": null,
      "outputs": []
    },
    {
      "cell_type": "markdown",
      "source": [
        "### In the Above visualization we cant see the missing values because there are only 2 soo it cant be visualize..."
      ],
      "metadata": {
        "id": "2cxe7DzLVXEz"
      }
    },
    {
      "cell_type": "markdown",
      "source": [
        "but in the Null values we got that pincodes are missing so toget the data we seperately called"
      ],
      "metadata": {
        "id": "ccZdBg7NVZsf"
      }
    },
    {
      "cell_type": "code",
      "source": [
        "missing_rows = df[df['Pincodes'].isnull()]\n",
        "print(missing_rows)"
      ],
      "metadata": {
        "id": "rD1Cqx41Vexw"
      },
      "execution_count": null,
      "outputs": []
    },
    {
      "cell_type": "markdown",
      "source": [
        "### What did you know about your dataset?"
      ],
      "metadata": {
        "id": "H0kj-8xxnORC"
      }
    },
    {
      "cell_type": "markdown",
      "source": [
        "Answer Here: <br>\n",
        "1. Aggregated Datasets\n",
        "These datasets show overall statistics per state/district over time—not user-level data, but summary level (macro) data. The categories are usually:\n",
        "\n",
        "- a. aggregated/transaction\n",
        "Purpose: Show volume and value of transactions made on PhonePe.\n",
        "\n",
        "- Columns (after conversion):state, year, quarter\n",
        "transaction_type (e.g., recharge, peer-to-peer, merchant, etc.)\n",
        "transaction_count\n",
        "transaction_amount\n",
        "- b. aggregated/user\n",
        "Purpose: Number of users and app opens.\n",
        "- Columns:\n",
        "state, year, quarter\n",
        "device_brand\n",
        "user_count, percentage_share (optional depending on data version)\n",
        "- c. aggregated/insurance\n",
        "Purpose: Shows digital insurance bought through PhonePe.\n",
        "- Columns:\n",
        "state, year, quarter\n",
        "insurance_type (e.g., health, life)\n",
        "premium_amount, policy_count\n",
        "\n",
        "2. Map Datasets\n",
        "These datasets allow geographical-level analysis, usually at state/district level. They’re still aggregated but are location-mapped.\n",
        "\n",
        "- a. map/transaction\n",
        "Purpose: Geo-level data of PhonePe transactions.\n",
        "\n",
        "- Columns:\n",
        "state, district, year, quarter\n",
        "transaction_count, transaction_amount\n",
        "\n",
        "- b. map/user\n",
        "Purpose: Geo-level data of user registrations.\n",
        "\n",
        "- Columns:\n",
        "state, district, year, quarter\n",
        "registered_users, app_opens\n",
        "\n",
        "3. Top Datasets\n",
        "These show top 10 categories in certain metrics. Great for leaderboards or ranking analysis.\n",
        "\n",
        "- a. top/transaction\n",
        "Purpose: Top 10 states/districts with highest transaction count/value.\n",
        "\n",
        "- Columns:\n",
        "state, district, year, quarter\n",
        "transaction_type, transaction_count, transaction_amount\n",
        "\n",
        "- b. top/user\n",
        "Purpose: Top 10 states/districts by registered users and app opens.\n",
        "\n",
        "- Columns:\n",
        "state, district, year, quarter\n",
        "registered_users\n",
        "\n"
      ],
      "metadata": {
        "id": "gfoNAAC-nUe_"
      }
    },
    {
      "cell_type": "code",
      "source": [
        "agg_trans_df.columns"
      ],
      "metadata": {
        "id": "kmdE6L8BVoAm"
      },
      "execution_count": null,
      "outputs": []
    },
    {
      "cell_type": "markdown",
      "source": [
        "## ***2. Understanding Your Variables***"
      ],
      "metadata": {
        "id": "nA9Y7ga8ng1Z"
      }
    },
    {
      "cell_type": "code",
      "source": [
        "# Dataset Columns\n",
        "df.columns"
      ],
      "metadata": {
        "id": "j7xfkqrt5Ag5"
      },
      "execution_count": null,
      "outputs": []
    },
    {
      "cell_type": "code",
      "source": [
        "# Dataset Describe\n",
        "df.describe()"
      ],
      "metadata": {
        "id": "DnOaZdaE5Q5t"
      },
      "execution_count": null,
      "outputs": []
    },
    {
      "cell_type": "markdown",
      "source": [
        "### Variables Description"
      ],
      "metadata": {
        "id": "PBTbrJXOngz2"
      }
    },
    {
      "cell_type": "markdown",
      "source": [
        "# Answer Here: should do"
      ],
      "metadata": {
        "id": "aJV4KIxSnxay"
      }
    },
    {
      "cell_type": "markdown",
      "source": [
        "### Check Unique Values for each variable."
      ],
      "metadata": {
        "id": "u3PMJOP6ngxN"
      }
    },
    {
      "cell_type": "code",
      "source": [
        "# Check Unique Values for each variable.\n",
        "df.nunique()"
      ],
      "metadata": {
        "id": "zms12Yq5n-jE"
      },
      "execution_count": null,
      "outputs": []
    },
    {
      "cell_type": "markdown",
      "source": [
        "## 3. ***Data Wrangling***"
      ],
      "metadata": {
        "id": "dauF4eBmngu3"
      }
    },
    {
      "cell_type": "markdown",
      "source": [
        "### Data Wrangling Code"
      ],
      "metadata": {
        "id": "bKJF3rekwFvQ"
      }
    },
    {
      "cell_type": "code",
      "source": [
        "# Write your code to make your dataset analysis ready.\n",
        "#step 1:\n",
        "#Cleanup the dataset\n",
        "# Remove duplicates\n",
        "df.drop_duplicates(inplace=True) #This removes duplicates\n",
        "\n",
        "# Standardize column names (optional but cleaner)\n",
        "df.columns = df.columns.str.strip().str.replace(\" \", \"_\").str.lower()\n",
        "\n",
        "# Check for nulls\n",
        "print(\"Null Values:\\n\", df.isnull().sum())\n",
        "\n",
        "#Step2:\n",
        "#Handling missing values:\n",
        "# Check how many missing pincodes\n",
        "print(\"Missing Pincodes:\", df['pincodes'].isnull().sum())\n",
        "\n",
        "# Option 1: Fill with mode (most frequent pincode)\n",
        "df['pincodes'] = df['pincodes'].fillna(df['pincodes'].mode()[0]) # Replaces the NaN entries in pincodes with that most common value.(that is frequently occuring)\n",
        "# print(df.isnull().sum()) --> to check... but already the missing values got replaced\n",
        "\n",
        "# step3:\n",
        "# Ensure years and quarter are integer if not already\n",
        "df['years'] = df['years'].astype(int)\n",
        "df['quarter'] = df['quarter'].astype(int)\n",
        "\n",
        "# Convert pincode to string (categorical-like)\n",
        "df['pincodes'] = df['pincodes'].astype(str)\n",
        "\n",
        "#Step4:\n",
        "# Create a 'year_quarter' column\n",
        "df['year_quarter'] = df['years'].astype(str) + '-Q' + df['quarter'].astype(str)\n",
        "agg_trans_df['year_quarter'] = agg_trans_df['Years'].astype(str) + '-Q' + agg_trans_df['Quarter'].astype(str)\n",
        "agg_ins_df['year_quarter'] = agg_ins_df['Years'].astype(str) + '-Q' + agg_ins_df['Quarter'].astype(str)\n",
        "agg_user_df['year_quarter'] = agg_user_df['Years'].astype(str) + '-Q' + agg_user_df['Quarter'].astype(str)\n",
        "map_trans_df['year_quarter'] = map_trans_df['Years'].astype(str) + '-Q' + map_trans_df['Quarter'].astype(str)\n",
        "map_ins_df['year_quarter'] = map_ins_df['Years'].astype(str) + '-Q' + map_ins_df['Quarter'].astype(str)\n",
        "map_user_df['year_quarter'] = map_user_df['Years'].astype(str) + '-Q' + map_user_df['Quarter'].astype(str)\n",
        "top_trans_df['year_quarter'] = top_trans_df['years'].astype(str) + '-Q' + top_trans_df['quarter'].astype(str)\n",
        "top_ins_df['year_quarter'] = top_ins_df['Years'].astype(str) + '-Q' + top_ins_df['Quarter'].astype(str)\n",
        "top_user_df['year_quarter'] = top_user_df['Years'].astype(str) + '-Q' + top_user_df['Quarter'].astype(str)\n"
      ],
      "metadata": {
        "id": "wk-9a2fpoLcV"
      },
      "execution_count": null,
      "outputs": []
    },
    {
      "cell_type": "code",
      "source": [
        "map_user_df.columns"
      ],
      "metadata": {
        "id": "DQ2gWgMqWLhb"
      },
      "execution_count": null,
      "outputs": []
    },
    {
      "cell_type": "markdown",
      "source": [
        "### What all manipulations have you done and insights you found?"
      ],
      "metadata": {
        "id": "MSa1f5Uengrz"
      }
    },
    {
      "cell_type": "markdown",
      "source": [
        "Answer Here:\n",
        "In This i have made in steps wise:\n",
        "- step1: removed duplicated values\n",
        "- step2: gone through the dataset to check the missing values(NAN).\n",
        "  - Found the missing values in the pincodes so replaced with the most occuring values in the pincodes\n",
        "- step3: In this step we made the columns of years, quarter to int type only.... and pincodes as string type\n",
        "- step4: made a new column for year_quarter for better visualizations"
      ],
      "metadata": {
        "id": "LbyXE7I1olp8"
      }
    },
    {
      "cell_type": "markdown",
      "source": [
        "## ***4. Data Vizualization, Storytelling & Experimenting with charts : Understand the relationships between variables***"
      ],
      "metadata": {
        "id": "GF8Ens_Soomf"
      }
    },
    {
      "cell_type": "markdown",
      "source": [
        "#### Chart - 1"
      ],
      "metadata": {
        "id": "0wOQAZs5pc--"
      }
    },
    {
      "cell_type": "code",
      "source": [
        "# Chart - 1 visualization code\n",
        "df1 = agg_trans_df.groupby(\"States\")[\"Transaction_amount\"].sum().sort_values(ascending=False)\n",
        "plt.figure(figsize=(8,6))\n",
        "sns.barplot(x=df1.index, y=df1.values, palette=\"viridis\")\n",
        "plt.xticks(rotation=90)\n",
        "plt.title(\"Total Transaction Amount by State\")\n",
        "plt.xlabel(\"States\")\n",
        "plt.ylabel(\"Transaction Amount\")\n",
        "plt.show()"
      ],
      "metadata": {
        "id": "7v_ESjsspbW7"
      },
      "execution_count": null,
      "outputs": []
    },
    {
      "cell_type": "markdown",
      "source": [
        "##### 1. Why did you pick the specific chart?"
      ],
      "metadata": {
        "id": "K5QZ13OEpz2H"
      }
    },
    {
      "cell_type": "markdown",
      "source": [
        "Answer Here: This bar chart clearly compares the transaction volume between states. Bar charts are excellent for state-wise aggregation."
      ],
      "metadata": {
        "id": "XESiWehPqBRc"
      }
    },
    {
      "cell_type": "markdown",
      "source": [
        "##### 2. What is/are the insight(s) found from the chart?"
      ],
      "metadata": {
        "id": "lQ7QKXXCp7Bj"
      }
    },
    {
      "cell_type": "markdown",
      "source": [
        "Answer Here:\n",
        "- Insights:\n",
        "   - Telangana Maharashtra, Karnataka, and Tamil Nadu lead in transaction amount.\n",
        "\n",
        "  - Smaller UTs(union terristories) like Lakshadweep and Ladakh have very low volume."
      ],
      "metadata": {
        "id": "C_j1G7yiqdRP"
      }
    },
    {
      "cell_type": "markdown",
      "source": [
        "##### 3. Will the gained insights help creating a positive business impact?\n",
        "Are there any insights that lead to negative growth? Justify with specific reason."
      ],
      "metadata": {
        "id": "448CDAPjqfQr"
      }
    },
    {
      "cell_type": "markdown",
      "source": [
        "Answer Here:\n",
        "  * High-performing states can be used for launching new premium services\n",
        "  \n",
        "  - Underperforming regions can be targeted with promotional offers to boost adoption"
      ],
      "metadata": {
        "id": "3cspy4FjqxJW"
      }
    },
    {
      "cell_type": "markdown",
      "source": [
        "#### Chart - 2"
      ],
      "metadata": {
        "id": "KSlN3yHqYklG"
      }
    },
    {
      "cell_type": "code",
      "source": [
        "ch2 = agg_trans_df.groupby(\"year_quarter\")[\"Transaction_amount\"].sum().reset_index()\n",
        "sns.lineplot(data=ch2, x=\"year_quarter\", y=\"Transaction_amount\", marker=\"o\", color=\"orange\")\n",
        "plt.title(\"Chart 2: Transaction Amount Over Time (Aggregated Transactions)\")\n",
        "plt.ylabel(\"Amount (INR)\")\n",
        "plt.xticks(rotation=45)\n",
        "plt.tight_layout()\n",
        "plt.show()\n"
      ],
      "metadata": {
        "id": "R4YgtaqtYklH"
      },
      "execution_count": null,
      "outputs": []
    },
    {
      "cell_type": "markdown",
      "source": [
        "##### 1. Why did you pick the specific chart?"
      ],
      "metadata": {
        "id": "t6dVpIINYklI"
      }
    },
    {
      "cell_type": "markdown",
      "source": [
        "Answer Here: This line chart displays changes in monetary transaction volume over time, essential for understanding financial performance."
      ],
      "metadata": {
        "id": "5aaW0BYyYklI"
      }
    },
    {
      "cell_type": "markdown",
      "source": [
        "##### 2. What is/are the insight(s) found from the chart?"
      ],
      "metadata": {
        "id": "ijmpgYnKYklI"
      }
    },
    {
      "cell_type": "markdown",
      "source": [
        "Answer Here: Transaction amount generally rises with transaction count, but the rate of growth can vary. A sudden jump may indicate B2B adoption or large-value partnerships."
      ],
      "metadata": {
        "id": "PSx9atu2YklI"
      }
    },
    {
      "cell_type": "markdown",
      "source": [
        "##### 3. Will the gained insights help creating a positive business impact?\n",
        "Are there any insights that lead to negative growth? Justify with specific reason."
      ],
      "metadata": {
        "id": "-JiQyfWJYklI"
      }
    },
    {
      "cell_type": "markdown",
      "source": [
        "Answer Here: <br>\n",
        "Positive: Indicates user trust and higher value usage.<br>\n",
        "Negative: If growth is slow despite rising user count, it may point to low-value transactions needing targeted merchant strategies."
      ],
      "metadata": {
        "id": "BcBbebzrYklV"
      }
    },
    {
      "cell_type": "markdown",
      "source": [
        "#### Chart - 3"
      ],
      "metadata": {
        "id": "EM7whBJCYoAo"
      }
    },
    {
      "cell_type": "code",
      "source": [
        "# Chart - 3 visualization code\n",
        "ch_3 = agg_trans_df.groupby(\"Transaction_type\")[\"Transaction_count\"].sum().reset_index()\n",
        "sns.barplot(data=ch_3, x=\"Transaction_type\", y=\"Transaction_count\", palette=\"Set2\")\n",
        "plt.title(\"Chart 3: Transaction Type Distribution (Aggregated Transactions)\")\n",
        "plt.xticks(rotation=45)\n",
        "plt.tight_layout()\n",
        "plt.show()\n"
      ],
      "metadata": {
        "id": "t6GMdE67YoAp"
      },
      "execution_count": null,
      "outputs": []
    },
    {
      "cell_type": "markdown",
      "source": [
        "##### 1. Why did you pick the specific chart?"
      ],
      "metadata": {
        "id": "fge-S5ZAYoAp"
      }
    },
    {
      "cell_type": "markdown",
      "source": [
        "Answer Here: A bar chart clearly compares different transaction types like \"Recharge\", \"Peer-to-peer\", \"Merchant Payments\", etc."
      ],
      "metadata": {
        "id": "5dBItgRVYoAp"
      }
    },
    {
      "cell_type": "markdown",
      "source": [
        "##### 2. What is/are the insight(s) found from the chart?"
      ],
      "metadata": {
        "id": "85gYPyotYoAp"
      }
    },
    {
      "cell_type": "markdown",
      "source": [
        "Answer Here: Some transaction types dominate usage (e.g., P2P transfers), while others like utility payments may lag behind."
      ],
      "metadata": {
        "id": "4jstXR6OYoAp"
      }
    },
    {
      "cell_type": "markdown",
      "source": [
        "##### 3. Will the gained insights help creating a positive business impact?\n",
        "Are there any insights that lead to negative growth? Justify with specific reason."
      ],
      "metadata": {
        "id": "RoGjAbkUYoAp"
      }
    },
    {
      "cell_type": "markdown",
      "source": [
        "Answer Here: Helps identify which services to promote or improve. Low-performing types can be targeted with new features or offers. High usage areas reinforce brand identity."
      ],
      "metadata": {
        "id": "zfJ8IqMcYoAp"
      }
    },
    {
      "cell_type": "markdown",
      "source": [
        "#### Chart - 4"
      ],
      "metadata": {
        "id": "4Of9eVA-YrdM"
      }
    },
    {
      "cell_type": "code",
      "source": [
        "# Chart - 4 visualization code\n",
        "ch_4 = agg_trans_df.groupby(\"States\")[\"Transaction_count\"].sum().sort_values(ascending=False).head(10).reset_index()\n",
        "sns.barplot(data=ch_4, x=\"Transaction_count\", y=\"States\", palette=\"magma\")\n",
        "plt.title(\"Chart 4: Top States by Transaction Count (Aggregated Transactions)\")\n",
        "plt.tight_layout()\n",
        "plt.show()\n"
      ],
      "metadata": {
        "id": "irlUoxc8YrdO"
      },
      "execution_count": null,
      "outputs": []
    },
    {
      "cell_type": "markdown",
      "source": [
        "##### 1. Why did you pick the specific chart?"
      ],
      "metadata": {
        "id": "iky9q4vBYrdO"
      }
    },
    {
      "cell_type": "markdown",
      "source": [
        "Answer Here: A horizontal bar chart highlights regional activity and penetration across India."
      ],
      "metadata": {
        "id": "aJRCwT6DYrdO"
      }
    },
    {
      "cell_type": "markdown",
      "source": [
        "##### 2. What is/are the insight(s) found from the chart?"
      ],
      "metadata": {
        "id": "F6T5p64dYrdO"
      }
    },
    {
      "cell_type": "markdown",
      "source": [
        "Answer Here: States like Maharashtra, Karnataka, and Telangana may show the highest volume."
      ],
      "metadata": {
        "id": "Xx8WAJvtYrdO"
      }
    },
    {
      "cell_type": "markdown",
      "source": [
        "##### 3. Will the gained insights help creating a positive business impact?\n",
        "Are there any insights that lead to negative growth? Justify with specific reason."
      ],
      "metadata": {
        "id": "y-Ehk30pYrdP"
      }
    },
    {
      "cell_type": "markdown",
      "source": [
        "Answer Here: <br>\n",
        "Positive: Helps allocate marketing resources and support based on performance.<br>\n",
        "Negative: Underperforming states signal areas needing awareness campaigns or better onboarding."
      ],
      "metadata": {
        "id": "jLNxxz7MYrdP"
      }
    },
    {
      "cell_type": "markdown",
      "source": [
        "#### Chart - 5"
      ],
      "metadata": {
        "id": "bamQiAODYuh1"
      }
    },
    {
      "cell_type": "code",
      "source": [
        "# Chart - 5 visualization code\n",
        "chart5_data = agg_trans_df.groupby(\"States\")[\"Transaction_amount\"].sum().sort_values(ascending=False).head(10).reset_index()\n",
        "sns.barplot(data=chart5_data, x=\"Transaction_amount\", y=\"States\", palette=\"viridis\")\n",
        "plt.title(\"Chart 5: Top States by Transaction Amount (Aggregated Transactions)\")\n",
        "plt.tight_layout()\n",
        "plt.show()"
      ],
      "metadata": {
        "id": "TIJwrbroYuh3"
      },
      "execution_count": null,
      "outputs": []
    },
    {
      "cell_type": "markdown",
      "source": [
        "##### 1. Why did you pick the specific chart?"
      ],
      "metadata": {
        "id": "QHF8YVU7Yuh3"
      }
    },
    {
      "cell_type": "markdown",
      "source": [
        "Answer Here: It shows where the highest monetary transactions happen, which may differ from transaction count."
      ],
      "metadata": {
        "id": "dcxuIMRPYuh3"
      }
    },
    {
      "cell_type": "markdown",
      "source": [
        "##### 2. What is/are the insight(s) found from the chart?"
      ],
      "metadata": {
        "id": "GwzvFGzlYuh3"
      }
    },
    {
      "cell_type": "markdown",
      "source": [
        "Answer Here: -States with industrial hubs or high-income populations show higher amounts, even if transaction count is moderate."
      ],
      "metadata": {
        "id": "uyqkiB8YYuh3"
      }
    },
    {
      "cell_type": "markdown",
      "source": [
        "##### 3. Will the gained insights help creating a positive business impact?\n",
        "Are there any insights that lead to negative growth? Justify with specific reason."
      ],
      "metadata": {
        "id": "qYpmQ266Yuh3"
      }
    },
    {
      "cell_type": "markdown",
      "source": [
        "Answer Here: Helps identify premium customers. Tailored services (like insurance or investment) can be promoted in high-value states."
      ],
      "metadata": {
        "id": "_WtzZ_hCYuh4"
      }
    },
    {
      "cell_type": "markdown",
      "source": [
        "#### Chart - 6"
      ],
      "metadata": {
        "id": "OH-pJp9IphqM"
      }
    },
    {
      "cell_type": "code",
      "source": [
        "# Chart - 6 visualization code\n",
        "ch_6 = map_user_df.groupby(\"year_quarter\")[\"RegisteredUser\"].sum().reset_index()\n",
        "sns.lineplot(data=ch_6, x=\"year_quarter\", y=\"RegisteredUser\", marker=\"o\", color=\"purple\")\n",
        "plt.title(\"Chart 6: Registered Users Over Time (Map Users)\")\n",
        "plt.xticks(rotation=45)\n",
        "plt.tight_layout()\n",
        "plt.show()"
      ],
      "metadata": {
        "id": "kuRf4wtuphqN"
      },
      "execution_count": null,
      "outputs": []
    },
    {
      "cell_type": "markdown",
      "source": [
        "##### 1. Why did you pick the specific chart?"
      ],
      "metadata": {
        "id": "bbFf2-_FphqN"
      }
    },
    {
      "cell_type": "markdown",
      "source": [
        "Answer Here: User growth over time is best shown using a line chart, making it easy to see adoption trends."
      ],
      "metadata": {
        "id": "loh7H2nzphqN"
      }
    },
    {
      "cell_type": "markdown",
      "source": [
        "##### 2. What is/are the insight(s) found from the chart?"
      ],
      "metadata": {
        "id": "_ouA3fa0phqN"
      }
    },
    {
      "cell_type": "markdown",
      "source": [
        "Answer Here: Registered users increase steadily, validating user onboarding efforts. national initiatives (like UPI integration with banks)."
      ],
      "metadata": {
        "id": "VECbqPI7phqN"
      }
    },
    {
      "cell_type": "markdown",
      "source": [
        "##### 3. Will the gained insights help creating a positive business impact?\n",
        "Are there any insights that lead to negative growth? Justify with specific reason."
      ],
      "metadata": {
        "id": "Seke61FWphqN"
      }
    },
    {
      "cell_type": "markdown",
      "source": [
        "Answer Here: More users mean a larger customer base for monetization. If user growth slows, re-engagement or regional campaigns may be required."
      ],
      "metadata": {
        "id": "DW4_bGpfphqN"
      }
    },
    {
      "cell_type": "markdown",
      "source": [
        "#### Chart - 7"
      ],
      "metadata": {
        "id": "PIIx-8_IphqN"
      }
    },
    {
      "cell_type": "code",
      "source": [
        "# Chart - 7 visualization code\n",
        "insurance_data = agg_ins_df.groupby(\"year_quarter\")[[\"Insurance_count\", \"Insurance_amount\"]].sum().reset_index()\n",
        "sns.lineplot(data=insurance_data, x=\"year_quarter\", y=\"Insurance_count\", marker=\"o\", label=\"Count\")\n",
        "sns.lineplot(data=insurance_data, x=\"year_quarter\", y=\"Insurance_amount\", marker=\"o\", label=\"Amount\")\n",
        "plt.title(\"Chart 7: Insurance Count & Amount Over Time (Aggregated Insurance)\")\n",
        "plt.legend()\n",
        "plt.xticks(rotation=45)\n",
        "plt.tight_layout()\n",
        "plt.show()"
      ],
      "metadata": {
        "id": "lqAIGUfyphqO"
      },
      "execution_count": null,
      "outputs": []
    },
    {
      "cell_type": "markdown",
      "source": [
        "##### 1. Why did you pick the specific chart?"
      ],
      "metadata": {
        "id": "t27r6nlMphqO"
      }
    },
    {
      "cell_type": "markdown",
      "source": [
        "Answer Here: A dual-line chart helps compare two metrics (insurance count and amount) over time."
      ],
      "metadata": {
        "id": "iv6ro40sphqO"
      }
    },
    {
      "cell_type": "markdown",
      "source": [
        "##### 2. What is/are the insight(s) found from the chart?"
      ],
      "metadata": {
        "id": "r2jJGEOYphqO"
      }
    },
    {
      "cell_type": "markdown",
      "source": [
        "Answer Here: Insurance services are gaining adoption, but amounts may remain low, indicating small-ticket policies."
      ],
      "metadata": {
        "id": "Po6ZPi4hphqO"
      }
    },
    {
      "cell_type": "markdown",
      "source": [
        "##### 3. Will the gained insights help creating a positive business impact?\n",
        "Are there any insights that lead to negative growth? Justify with specific reason."
      ],
      "metadata": {
        "id": "b0JNsNcRphqO"
      }
    },
    {
      "cell_type": "markdown",
      "source": [
        "Answer Here: Opportunity to scale financial services. Micro-insurance is growing. Larger policy types can be introduced based on user maturity."
      ],
      "metadata": {
        "id": "xvSq8iUTphqO"
      }
    },
    {
      "cell_type": "markdown",
      "source": [
        "#### Chart - 8"
      ],
      "metadata": {
        "id": "BZR9WyysphqO"
      }
    },
    {
      "cell_type": "code",
      "source": [
        "# Chart - 8 visualization code\n",
        "district_insurance = map_ins_df.groupby(\"Districts\")[\"Transaction_count\"].sum().sort_values(ascending=False).head(10).reset_index()\n",
        "sns.barplot(data=district_insurance, x=\"Transaction_count\", y=\"Districts\", palette=\"coolwarm\")\n",
        "plt.title(\"Chart 8: Top Districts by Insurance Count (Map Insurance)\")\n",
        "plt.tight_layout()\n",
        "plt.show()"
      ],
      "metadata": {
        "id": "TdPTWpAVphqO"
      },
      "execution_count": null,
      "outputs": []
    },
    {
      "cell_type": "markdown",
      "source": [
        "##### 1. Why did you pick the specific chart?"
      ],
      "metadata": {
        "id": "jj7wYXLtphqO"
      }
    },
    {
      "cell_type": "markdown",
      "source": [
        "Answer Here: District-level analysis pinpoints where insurance services are most used."
      ],
      "metadata": {
        "id": "Ob8u6rCTphqO"
      }
    },
    {
      "cell_type": "markdown",
      "source": [
        "##### 2. What is/are the insight(s) found from the chart?"
      ],
      "metadata": {
        "id": "eZrbJ2SmphqO"
      }
    },
    {
      "cell_type": "markdown",
      "source": [
        "Answer Here: Urban districts dominate. Semi-urban areas show potential if infrastructure is improved."
      ],
      "metadata": {
        "id": "mZtgC_hjphqO"
      }
    },
    {
      "cell_type": "markdown",
      "source": [
        "##### 3. Will the gained insights help creating a positive business impact?\n",
        "Are there any insights that lead to negative growth? Justify with specific reason."
      ],
      "metadata": {
        "id": "rFu4xreNphqO"
      }
    },
    {
      "cell_type": "markdown",
      "source": [
        "Answer Here: Supports location-based policy marketing. Underserved areas offer growth opportunities with the right education and support."
      ],
      "metadata": {
        "id": "ey_0qi68phqO"
      }
    },
    {
      "cell_type": "markdown",
      "source": [
        "#### Chart - 9"
      ],
      "metadata": {
        "id": "YJ55k-q6phqO"
      }
    },
    {
      "cell_type": "code",
      "source": [
        "# Chart - 9 visualization code\n",
        "top_pin_txn = top_trans_df.groupby(\"pincodes\")[\"transaction_count\"].sum().sort_values(ascending=False).head(10).reset_index()\n",
        "sns.barplot(data=top_pin_txn, x=\"transaction_count\", y=\"pincodes\", palette=\"flare\")\n",
        "plt.title(\"Chart 9: Top pincodes by Transaction Count (Top Transactions)\")\n",
        "plt.tight_layout()\n",
        "plt.show()"
      ],
      "metadata": {
        "id": "B2aS4O1ophqO"
      },
      "execution_count": null,
      "outputs": []
    },
    {
      "cell_type": "markdown",
      "source": [
        "##### 1. Why did you pick the specific chart?"
      ],
      "metadata": {
        "id": "gCFgpxoyphqP"
      }
    },
    {
      "cell_type": "markdown",
      "source": [
        "Answer Here: Pincodes reflect micro-locations. A bar chart shows hyperlocal performance."
      ],
      "metadata": {
        "id": "TVxDimi2phqP"
      }
    },
    {
      "cell_type": "markdown",
      "source": [
        "##### 2. What is/are the insight(s) found from the chart?"
      ],
      "metadata": {
        "id": "OVtJsKN_phqQ"
      }
    },
    {
      "cell_type": "markdown",
      "source": [
        "Answer Here: Pincodes in metropolitan areas lead, but surprising growth in Tier-3 towns indicates nice development"
      ],
      "metadata": {
        "id": "ngGi97qjphqQ"
      }
    },
    {
      "cell_type": "markdown",
      "source": [
        "##### 3. Will the gained insights help creating a positive business impact?\n",
        "Are there any insights that lead to negative growth? Justify with specific reason."
      ],
      "metadata": {
        "id": "lssrdh5qphqQ"
      }
    },
    {
      "cell_type": "markdown",
      "source": [
        "Answer Here: Can guide local ads, UPI QR deployments, and merchant onboarding in high-usage areas."
      ],
      "metadata": {
        "id": "tBpY5ekJphqQ"
      }
    },
    {
      "cell_type": "markdown",
      "source": [
        "#### Chart - 10"
      ],
      "metadata": {
        "id": "U2RJ9gkRphqQ"
      }
    },
    {
      "cell_type": "code",
      "source": [
        "# Chart - 10 visualization code\n",
        "brand_trend = agg_user_df.groupby([\"year_quarter\", \"Brands\"])[\"Transaction_count\"].sum().reset_index()\n",
        "sns.lineplot(data=brand_trend, x=\"year_quarter\", y=\"Transaction_count\", hue=\"Brands\")\n",
        "plt.title(\"Chart 10: Brand-wise Transactions Over Time (Aggregated Users)\")\n",
        "plt.xticks(rotation=45)\n",
        "plt.tight_layout()\n",
        "plt.show()"
      ],
      "metadata": {
        "id": "GM7a4YP4phqQ"
      },
      "execution_count": null,
      "outputs": []
    },
    {
      "cell_type": "markdown",
      "source": [
        "##### 1. Why did you pick the specific chart?"
      ],
      "metadata": {
        "id": "1M8mcRywphqQ"
      }
    },
    {
      "cell_type": "markdown",
      "source": [
        "Answer Here: Line plots with color-coded brands show device-based engagement trends."
      ],
      "metadata": {
        "id": "8agQvks0phqQ"
      }
    },
    {
      "cell_type": "markdown",
      "source": [
        "##### 2. What is/are the insight(s) found from the chart?"
      ],
      "metadata": {
        "id": "tgIPom80phqQ"
      }
    },
    {
      "cell_type": "markdown",
      "source": [
        "Answer Here: Brands like Xiaomi and Samsung may dominate due to affordability and market share. Some brands show rapid growth quarter by quarter."
      ],
      "metadata": {
        "id": "Qp13pnNzphqQ"
      }
    },
    {
      "cell_type": "markdown",
      "source": [
        "##### 3. Will the gained insights help creating a positive business impact?\n",
        "Are there any insights that lead to negative growth? Justify with specific reason."
      ],
      "metadata": {
        "id": "JMzcOPDDphqR"
      }
    },
    {
      "cell_type": "markdown",
      "source": [
        "Answer Here: Device partnerships can be forged. Helps optimize app performance for leading devices."
      ],
      "metadata": {
        "id": "R4Ka1PC2phqR"
      }
    },
    {
      "cell_type": "markdown",
      "source": [
        "#### Chart - 11"
      ],
      "metadata": {
        "id": "x-EpHcCOp1ci"
      }
    },
    {
      "cell_type": "code",
      "source": [
        "# Chart - 11 visualization code\n",
        "app_data = map_user_df.groupby(\"year_quarter\")[[\"RegisteredUser\", \"AppOpens\"]].sum().reset_index()\n",
        "sns.lineplot(data=app_data, x=\"year_quarter\", y=\"RegisteredUser\", marker=\"o\", label=\"Registered Users\")\n",
        "sns.lineplot(data=app_data, x=\"year_quarter\", y=\"AppOpens\", marker=\"o\", label=\"App Opens\")\n",
        "plt.title(\"Chart 11: App Opens vs Registered Users (Map Users)\")\n",
        "plt.legend()\n",
        "plt.xticks(rotation=45)\n",
        "plt.tight_layout()\n",
        "plt.show()"
      ],
      "metadata": {
        "id": "mAQTIvtqp1cj"
      },
      "execution_count": null,
      "outputs": []
    },
    {
      "cell_type": "markdown",
      "source": [
        "##### 1. Why did you pick the specific chart?"
      ],
      "metadata": {
        "id": "X_VqEhTip1ck"
      }
    },
    {
      "cell_type": "markdown",
      "source": [
        "Answer Here: Compare active engagement (App Opens) with total users (Registered Users)."
      ],
      "metadata": {
        "id": "-vsMzt_np1ck"
      }
    },
    {
      "cell_type": "markdown",
      "source": [
        "##### 2. What is/are the insight(s) found from the chart?"
      ],
      "metadata": {
        "id": "8zGJKyg5p1ck"
      }
    },
    {
      "cell_type": "markdown",
      "source": [
        "Answer Here: App opens often lag behind registered users, especially in newer regions — showing inactive users."
      ],
      "metadata": {
        "id": "ZYdMsrqVp1ck"
      }
    },
    {
      "cell_type": "markdown",
      "source": [
        "##### 3. Will the gained insights help creating a positive business impact?\n",
        "Are there any insights that lead to negative growth? Justify with specific reason."
      ],
      "metadata": {
        "id": "PVzmfK_Ep1ck"
      }
    },
    {
      "cell_type": "markdown",
      "source": [
        "Answer Here: Helps identify retention gaps. Push notifications, new features, or UX improvements can increase daily usage."
      ],
      "metadata": {
        "id": "druuKYZpp1ck"
      }
    },
    {
      "cell_type": "markdown",
      "source": [
        "#### Chart - 12"
      ],
      "metadata": {
        "id": "n3dbpmDWp1ck"
      }
    },
    {
      "cell_type": "code",
      "source": [
        "# Chart - 12 visualization code\n",
        "top_pin_insurance = top_ins_df.groupby(\"Pincodes\")[\"Transaction_count\"].sum().sort_values(ascending=False).head(10).reset_index()\n",
        "sns.barplot(data=top_pin_insurance, x=\"Transaction_count\", y=\"Pincodes\", palette=\"rocket\")\n",
        "plt.title(\"Chart 12: Top Pincodes by Insurance Count (Top Insurance)\")\n",
        "plt.tight_layout()\n",
        "plt.show()"
      ],
      "metadata": {
        "id": "bwevp1tKp1ck"
      },
      "execution_count": null,
      "outputs": []
    },
    {
      "cell_type": "markdown",
      "source": [
        "##### 1. Why did you pick the specific chart?"
      ],
      "metadata": {
        "id": "ylSl6qgtp1ck"
      }
    },
    {
      "cell_type": "markdown",
      "source": [
        "Answer Here: Identifies high-performing areas for insurance services at a micro level."
      ],
      "metadata": {
        "id": "m2xqNkiQp1ck"
      }
    },
    {
      "cell_type": "markdown",
      "source": [
        "##### 2. What is/are the insight(s) found from the chart?"
      ],
      "metadata": {
        "id": "ZWILFDl5p1ck"
      }
    },
    {
      "cell_type": "markdown",
      "source": [
        "Answer Here: Urban pincodes dominate again, showing demand for risk coverage in dense populations."
      ],
      "metadata": {
        "id": "x-lUsV2mp1ck"
      }
    },
    {
      "cell_type": "markdown",
      "source": [
        "##### 3. Will the gained insights help creating a positive business impact?\n",
        "Are there any insights that lead to negative growth? Justify with specific reason."
      ],
      "metadata": {
        "id": "M7G43BXep1ck"
      }
    },
    {
      "cell_type": "markdown",
      "source": [
        "Answer Here: Helps with agent deployment, digital ad targeting, and expansion of financial literacy programs."
      ],
      "metadata": {
        "id": "5wwDJXsLp1cl"
      }
    },
    {
      "cell_type": "markdown",
      "source": [
        "#### Chart - 13"
      ],
      "metadata": {
        "id": "Ag9LCva-p1cl"
      }
    },
    {
      "cell_type": "code",
      "source": [
        "# Chart - 13 visualization code\n",
        "top_pin_users = top_user_df.groupby(\"Pincodes\")[\"RegisteredUser\"].sum().sort_values(ascending=False).head(10).reset_index()\n",
        "sns.barplot(data=top_pin_users, x=\"RegisteredUser\", y=\"Pincodes\", palette=\"crest\")\n",
        "plt.title(\"Chart 13: Top Pincodes by Registered Users (Top Users)\")\n",
        "plt.tight_layout()\n",
        "plt.show()"
      ],
      "metadata": {
        "id": "EUfxeq9-p1cl"
      },
      "execution_count": null,
      "outputs": []
    },
    {
      "cell_type": "markdown",
      "source": [
        "##### 1. Why did you pick the specific chart?"
      ],
      "metadata": {
        "id": "E6MkPsBcp1cl"
      }
    },
    {
      "cell_type": "markdown",
      "source": [
        "Answer Here: Same as chart 9, but focuses on total users instead of transactions."
      ],
      "metadata": {
        "id": "V22bRsFWp1cl"
      }
    },
    {
      "cell_type": "markdown",
      "source": [
        "##### 2. What is/are the insight(s) found from the chart?"
      ],
      "metadata": {
        "id": "2cELzS2fp1cl"
      }
    },
    {
      "cell_type": "markdown",
      "source": [
        "Answer Here: Many users in certain pincodes might not be high spenders. Indicates potential for upselling."
      ],
      "metadata": {
        "id": "ozQPc2_Ip1cl"
      }
    },
    {
      "cell_type": "markdown",
      "source": [
        "##### 3. Will the gained insights help creating a positive business impact?\n",
        "Are there any insights that lead to negative growth? Justify with specific reason."
      ],
      "metadata": {
        "id": "3MPXvC8up1cl"
      }
    },
    {
      "cell_type": "markdown",
      "source": [
        "Answer Here: User-heavy areas with low transactions can be targeted for onboarding drives, merchant tie-ups, or service bundling."
      ],
      "metadata": {
        "id": "GL8l1tdLp1cl"
      }
    },
    {
      "cell_type": "markdown",
      "source": [
        "#### Chart - 14 - Correlation Heatmap"
      ],
      "metadata": {
        "id": "NC_X3p0fY2L0"
      }
    },
    {
      "cell_type": "code",
      "source": [
        "# Correlation Heatmap visualization code\n",
        "corr_data = agg_trans_df[[\"Transaction_count\", \"Transaction_amount\"]].copy()\n",
        "sns.heatmap(corr_data.corr(), annot=True, cmap=\"coolwarm\")\n",
        "plt.title(\"Chart 14: Correlation Heatmap (Aggregated Transactions)\")\n",
        "plt.tight_layout()\n",
        "plt.show()"
      ],
      "metadata": {
        "id": "xyC9zolEZNRQ"
      },
      "execution_count": null,
      "outputs": []
    },
    {
      "cell_type": "markdown",
      "source": [
        "##### 1. Why did you pick the specific chart?"
      ],
      "metadata": {
        "id": "UV0SzAkaZNRQ"
      }
    },
    {
      "cell_type": "markdown",
      "source": [
        "Answer Here: A correlation heatmap shows the relationship between variables. Here, it tells us whether higher transaction counts correlate with higher transaction amounts."
      ],
      "metadata": {
        "id": "DVPuT8LYZNRQ"
      }
    },
    {
      "cell_type": "markdown",
      "source": [
        "Found that : <br>\n",
        "Transaction_count & Transaction_amount\t0.67\tModerately Strong Positive Correlation"
      ],
      "metadata": {
        "id": "pcqpst1Vc9ur"
      }
    },
    {
      "cell_type": "markdown",
      "source": [
        "##### 2. What is/are the insight(s) found from the chart?"
      ],
      "metadata": {
        "id": "YPEH6qLeZNRQ"
      }
    },
    {
      "cell_type": "markdown",
      "source": [
        "Answer Here: High correlation suggests consistent behavior — users who do more transactions also spend more. Low or no correlation may imply high-frequency but low-value usage (e.g., recharges)."
      ],
      "metadata": {
        "id": "bfSqtnDqZNRR"
      }
    },
    {
      "cell_type": "markdown",
      "source": [
        "#### Chart - 15 - Pair Plot"
      ],
      "metadata": {
        "id": "q29F0dvdveiT"
      }
    },
    {
      "cell_type": "code",
      "source": [
        "# Pair Plot visualization code\n",
        "sns.pairplot(agg_trans_df[[\"Transaction_count\", \"Transaction_amount\"]])\n",
        "plt.suptitle(\"Chart 15: Pair Plot of Transaction Metrics (Aggregated Transactions)\", y=1.02)\n",
        "plt.show()"
      ],
      "metadata": {
        "id": "o58-TEIhveiU"
      },
      "execution_count": null,
      "outputs": []
    },
    {
      "cell_type": "markdown",
      "source": [
        "##### 1. Why did you pick the specific chart?"
      ],
      "metadata": {
        "id": "EXh0U9oCveiU"
      }
    },
    {
      "cell_type": "markdown",
      "source": [
        "Answer Here: A pair plot visualizes distributions and relationships between multiple metrics. Great for detecting clusters, trends, and outliers."
      ],
      "metadata": {
        "id": "eMmPjTByveiU"
      }
    },
    {
      "cell_type": "markdown",
      "source": [
        "##### 2. What is/are the insight(s) found from the chart?"
      ],
      "metadata": {
        "id": "22aHeOlLveiV"
      }
    },
    {
      "cell_type": "markdown",
      "source": [
        "Answer Here: Reveals whether there’s a linear, non-linear, or no relationship between transaction amount and count. Also helps detect anomalies."
      ],
      "metadata": {
        "id": "uPQ8RGwHveiV"
      }
    },
    {
      "cell_type": "markdown",
      "source": [
        "## ***5. Hypothesis Testing***"
      ],
      "metadata": {
        "id": "g-ATYxFrGrvw"
      }
    },
    {
      "cell_type": "markdown",
      "source": [
        "### Based on your chart experiments, define three hypothetical statements from the dataset. In the next three questions, perform hypothesis testing to obtain final conclusion about the statements through your code and statistical testing."
      ],
      "metadata": {
        "id": "Yfr_Vlr8HBkt"
      }
    },
    {
      "cell_type": "markdown",
      "source": [
        "Answer Here: Based on insights derived from visualizations in Charts 1–15, we defined and tested three hypothetical statements. The goal was to statistically validate trends we observed in user behavior, transaction patterns, and service usage on the PhonePe platform."
      ],
      "metadata": {
        "id": "-7MS06SUHkB-"
      }
    },
    {
      "cell_type": "markdown",
      "source": [
        "### Hypothetical Statement - 1"
      ],
      "metadata": {
        "id": "8yEUt7NnHlrM"
      }
    },
    {
      "cell_type": "markdown",
      "source": [
        "#### 1. State Your research hypothesis as a null hypothesis and alternate hypothesis."
      ],
      "metadata": {
        "id": "tEA2Xm5dHt1r"
      }
    },
    {
      "cell_type": "markdown",
      "source": [
        "Answer Here:<br>\n",
        "Null Hypothesis: There is no significant difference in the average transaction amount between top 5 and bottom 5 states.\n",
        "<br>\n",
        "Alternate Hypothesis: There is a significant difference in the average transaction amount between top 5 and bottom 5 states."
      ],
      "metadata": {
        "id": "HI9ZP0laH0D-"
      }
    },
    {
      "cell_type": "markdown",
      "source": [
        "#### 2. Perform an appropriate statistical test."
      ],
      "metadata": {
        "id": "I79__PHVH19G"
      }
    },
    {
      "cell_type": "code",
      "source": [
        "# Perform Statistical Test to obtain P-Value\n",
        "# Stp 1: Get total transaction count by state\n",
        "state_txn = agg_trans_df.groupby(\"States\")[[\"Transaction_count\", \"Transaction_amount\"]].sum().reset_index()\n",
        "\n",
        "# Stp 2: Identify top 5 and bottom 5 states by transaction count\n",
        "top_states = state_txn.sort_values(\"Transaction_count\", ascending=False).head(5)\n",
        "bottom_states = state_txn.sort_values(\"Transaction_count\", ascending=True).head(5)\n",
        "\n",
        "# Stp 3: Extract average transaction amounts\n",
        "top_avg = top_states[\"Transaction_amount\"]\n",
        "bottom_avg = bottom_states[\"Transaction_amount\"]\n",
        "\n",
        "# Stp 4: Perform independent t-test\n",
        "from scipy.stats import ttest_ind\n",
        "t_stat, p_value = ttest_ind(top_avg, bottom_avg)\n",
        "\n",
        "print(\"P-Value:\", p_value)"
      ],
      "metadata": {
        "id": "oZrfquKtyian"
      },
      "execution_count": null,
      "outputs": []
    },
    {
      "cell_type": "markdown",
      "source": [
        "##### Which statistical test have you done to obtain P-Value?"
      ],
      "metadata": {
        "id": "Ou-I18pAyIpj"
      }
    },
    {
      "cell_type": "markdown",
      "source": [
        "Answer Here: Two-Sample Independent T-Test"
      ],
      "metadata": {
        "id": "s2U0kk00ygSB"
      }
    },
    {
      "cell_type": "markdown",
      "source": [
        "##### Why did you choose the specific statistical test?"
      ],
      "metadata": {
        "id": "fF3858GYyt-u"
      }
    },
    {
      "cell_type": "markdown",
      "source": [
        "Answer Here.: Because we are comparing mean values of two independent groups (top vs bottom states). T-test is ideal when comparing numerical data between two groups.\n",
        "<br>\n",
        "If p < 0.05: Reject H₀(null) → There is a significant difference.\n",
        "<br>\n",
        "If p ≥ 0.05: Fail to reject H₀ → No significant difference.\n"
      ],
      "metadata": {
        "id": "HO4K0gP5y3B4"
      }
    },
    {
      "cell_type": "markdown",
      "source": [
        "### Hypothetical Statement - 2"
      ],
      "metadata": {
        "id": "4_0_7-oCpUZd"
      }
    },
    {
      "cell_type": "markdown",
      "source": [
        "#### 1. State Your research hypothesis as a null hypothesis and alternate hypothesis."
      ],
      "metadata": {
        "id": "hwyV_J3ipUZe"
      }
    },
    {
      "cell_type": "markdown",
      "source": [
        "Answer Here:\n",
        "Null Hypothesis: There is no correlation between App Opens and Registered Users.\n",
        "<br>\n",
        "Alternative Hypothesis: There is a positive correlation between App Opens and Registered Users."
      ],
      "metadata": {
        "id": "FnpLGJ-4pUZe"
      }
    },
    {
      "cell_type": "markdown",
      "source": [
        "#### 2. Perform an appropriate statistical test."
      ],
      "metadata": {
        "id": "3yB-zSqbpUZe"
      }
    },
    {
      "cell_type": "code",
      "source": [
        "# Perform Statistical Test to obtain P-Value\n",
        "# Stp 1: Group and summarize\n",
        "app_df = map_user_df.groupby(\"year_quarter\")[[\"AppOpens\", \"RegisteredUser\"]].sum().reset_index()\n",
        "\n",
        "# Stp 2: Pearson correlation test\n",
        "from scipy.stats import pearsonr\n",
        "corr_coef, p_value = pearsonr(app_df[\"AppOpens\"], app_df[\"RegisteredUser\"])\n",
        "\n",
        "print(\"Correlation Coefficient:\", corr_coef)\n",
        "print(\"P-Value:\", p_value)"
      ],
      "metadata": {
        "id": "sWxdNTXNpUZe"
      },
      "execution_count": null,
      "outputs": []
    },
    {
      "cell_type": "markdown",
      "source": [
        "##### Which statistical test have you done to obtain P-Value?"
      ],
      "metadata": {
        "id": "dEUvejAfpUZe"
      }
    },
    {
      "cell_type": "markdown",
      "source": [
        "Answer Here: Pearson Correlation Test"
      ],
      "metadata": {
        "id": "oLDrPz7HpUZf"
      }
    },
    {
      "cell_type": "markdown",
      "source": [
        "##### Why did you choose the specific statistical test?"
      ],
      "metadata": {
        "id": "Fd15vwWVpUZf"
      }
    },
    {
      "cell_type": "markdown",
      "source": [
        "Answer Here: Because it measures the linear relationship between two continuous variables (AppOpens and RegisteredUser).\n",
        "\n"
      ],
      "metadata": {
        "id": "4xOGYyiBpUZf"
      }
    },
    {
      "cell_type": "markdown",
      "source": [
        "### Hypothetical Statement - 3"
      ],
      "metadata": {
        "id": "bn_IUdTipZyH"
      }
    },
    {
      "cell_type": "markdown",
      "source": [
        "#### 1. State Your research hypothesis as a null hypothesis and alternate hypothesis."
      ],
      "metadata": {
        "id": "49K5P_iCpZyH"
      }
    },
    {
      "cell_type": "markdown",
      "source": [
        "Answer Here: <br>\n",
        "Null- Hypothesis: Mean insurance amount is greater than or equal to the mean transaction amount.\n",
        "\n",
        "Alternative Hypothesis: Mean insurance amount is less than the mean transaction amount."
      ],
      "metadata": {
        "id": "7gWI5rT9pZyH"
      }
    },
    {
      "cell_type": "markdown",
      "source": [
        "#### 2. Perform an appropriate statistical test."
      ],
      "metadata": {
        "id": "Nff-vKELpZyI"
      }
    },
    {
      "cell_type": "code",
      "source": [
        "# Perform Statistical Test to obtain P-Value\n",
        "# Stp 1: Get relevant data\n",
        "mean_insurance = agg_ins_df[\"Insurance_amount\"].mean()\n",
        "mean_transaction = agg_trans_df[\"Transaction_amount\"].mean()\n",
        "\n",
        "# Stp 2: Perform one-sided t-test\n",
        "from scipy.stats import ttest_1samp\n",
        "\n",
        "# H₀: insurance >= transaction → We'll test: insurance - transaction < 0\n",
        "# Convert transaction mean to sample baseline\n",
        "t_stat, p_value = ttest_1samp(agg_ins_df[\"Insurance_amount\"], popmean=mean_transaction)\n",
        "\n",
        "print(\"P-Value:\", p_value / 2)  # one-tailed test"
      ],
      "metadata": {
        "id": "s6AnJQjtpZyI"
      },
      "execution_count": null,
      "outputs": []
    },
    {
      "cell_type": "markdown",
      "source": [
        "##### Which statistical test have you done to obtain P-Value?"
      ],
      "metadata": {
        "id": "kLW572S8pZyI"
      }
    },
    {
      "cell_type": "markdown",
      "source": [
        "Answer Here:  One-Sample T-Test (One-Sided)"
      ],
      "metadata": {
        "id": "ytWJ8v15pZyI"
      }
    },
    {
      "cell_type": "markdown",
      "source": [
        "##### Why did you choose the specific statistical test?"
      ],
      "metadata": {
        "id": "dWbDXHzopZyI"
      }
    },
    {
      "cell_type": "markdown",
      "source": [
        "Answer Here: We're testing if one group's mean (insurance) is significantly lower than a known population mean (transaction)."
      ],
      "metadata": {
        "id": "M99G98V6pZyI"
      }
    },
    {
      "cell_type": "markdown",
      "source": [
        "## ***6. Feature Engineering & Data Pre-processing***"
      ],
      "metadata": {
        "id": "yLjJCtPM0KBk"
      }
    },
    {
      "cell_type": "markdown",
      "source": [
        "### 1. Handling Missing Values"
      ],
      "metadata": {
        "id": "xiyOF9F70UgQ"
      }
    },
    {
      "cell_type": "code",
      "source": [
        "# Handling Missing Values & Missing Value Imputation\n",
        "#Handling missing values is done in the prev steps\n",
        "## Fill missing Pincodes with mode (most frequent) value\n",
        "#top_ins_df[\"Pincodes\"].fillna(top_ins_df[\"Pincodes\"].mode()[0], inplace=True)\n",
        "#top_trans_df[\"Pincodes\"].fillna(top_trans_df[\"Pincodes\"].mode()[0], inplace=True)"
      ],
      "metadata": {
        "id": "iRsAHk1K0fpS"
      },
      "execution_count": null,
      "outputs": []
    },
    {
      "cell_type": "markdown",
      "source": [
        "#### What all missing value imputation techniques have you used and why did you use those techniques?"
      ],
      "metadata": {
        "id": "7wuGOrhz0itI"
      }
    },
    {
      "cell_type": "markdown",
      "source": [
        "Answer Here: used Mode imputation is effective for categorial columns like Pincodes, especially when missingness is minimal"
      ],
      "metadata": {
        "id": "1ixusLtI0pqI"
      }
    },
    {
      "cell_type": "markdown",
      "source": [
        "### 2. Handling Outliers"
      ],
      "metadata": {
        "id": "id1riN9m0vUs"
      }
    },
    {
      "cell_type": "code",
      "source": [
        "# Handling Outliers & Outlier treatments\n",
        "# Outlier detection in transaction amount\n",
        "Q1 = agg_trans_df['Transaction_amount'].quantile(0.25)\n",
        "Q3 = agg_trans_df['Transaction_amount'].quantile(0.75)\n",
        "IQR = Q3 - Q1\n",
        "lower = Q1 - 1.5 * IQR\n",
        "upper = Q3 + 1.5 * IQR"
      ],
      "metadata": {
        "id": "M6w2CzZf04JK"
      },
      "execution_count": null,
      "outputs": []
    },
    {
      "cell_type": "markdown",
      "source": [
        "##### What all outlier treatment techniques have you used and why did you use those techniques?"
      ],
      "metadata": {
        "id": "578E2V7j08f6"
      }
    },
    {
      "cell_type": "markdown",
      "source": [
        "Answer Here:<br>\n",
        "Techniques Used:<br>\n",
        "IQR Method (Interquartile Range) for continuous columns like Transaction_amount, Insurance_amount, etc.....\n",
        "<br>\n",
        "Why Used?<br>\n",
        "IQR helps detect non-normal outliers.\n",
        "statistical method used to reduce the impact of outliers on data analysis... reduces impact of extreme values without deleting rows."
      ],
      "metadata": {
        "id": "uGZz5OrT1HH-"
      }
    },
    {
      "cell_type": "markdown",
      "source": [
        "### 3. Categorical Encoding"
      ],
      "metadata": {
        "id": "89xtkJwZ18nB"
      }
    },
    {
      "cell_type": "code",
      "source": [
        "# Encode your categorical columns\n",
        "from sklearn.preprocessing import LabelEncoder\n",
        "agg_trans_df['Quarter'] = LabelEncoder().fit_transform(agg_trans_df['Quarter'])\n",
        "\n",
        "# One-hot encode Transaction Type\n",
        "agg_trans_encoded = pd.get_dummies(agg_trans_df, columns=['Transaction_type'], drop_first=True)"
      ],
      "metadata": {
        "id": "21JmIYMG2hEo"
      },
      "execution_count": null,
      "outputs": []
    },
    {
      "cell_type": "markdown",
      "source": [
        "#### What all categorical encoding techniques have you used & why did you use those techniques?"
      ],
      "metadata": {
        "id": "67NQN5KX2AMe"
      }
    },
    {
      "cell_type": "markdown",
      "source": [
        "Answer Here:<br>\n",
        "Techniques Used:\n",
        "Label Encoding for ordinal-type categorical values (Quarter)--> where order matters\n",
        "\n",
        "One-Hot Encoding for nominal categories like States, Transaction_type, Brands..... non-ordinal data( data that is categorized into groups with no inherent order or ranking) for use in ML models"
      ],
      "metadata": {
        "id": "UDaue5h32n_G"
      }
    },
    {
      "cell_type": "markdown",
      "source": [
        "### 4. Textual Data Preprocessing\n",
        "(It's mandatory for textual dataset i.e., NLP, Sentiment Analysis, Text Clustering etc.)"
      ],
      "metadata": {
        "id": "Iwf50b-R2tYG"
      }
    },
    {
      "cell_type": "markdown",
      "source": [
        "# These datasets are numerical/categorical. There are no textual/NLP columns, so steps like.... needed"
      ],
      "metadata": {
        "id": "HTmPy08KDQCU"
      }
    },
    {
      "cell_type": "markdown",
      "source": [
        "#### 1. Expand Contraction"
      ],
      "metadata": {
        "id": "GMQiZwjn3iu7"
      }
    },
    {
      "cell_type": "code",
      "source": [
        "# Expand Contraction"
      ],
      "metadata": {
        "id": "PTouz10C3oNN"
      },
      "execution_count": null,
      "outputs": []
    },
    {
      "cell_type": "markdown",
      "source": [
        "#### 2. Lower Casing"
      ],
      "metadata": {
        "id": "WVIkgGqN3qsr"
      }
    },
    {
      "cell_type": "code",
      "source": [
        "# Lower Casing"
      ],
      "metadata": {
        "id": "88JnJ1jN3w7j"
      },
      "execution_count": null,
      "outputs": []
    },
    {
      "cell_type": "markdown",
      "source": [
        "#### 3. Removing Punctuations"
      ],
      "metadata": {
        "id": "XkPnILGE3zoT"
      }
    },
    {
      "cell_type": "code",
      "source": [
        "# Remove Punctuations"
      ],
      "metadata": {
        "id": "vqbBqNaA33c0"
      },
      "execution_count": null,
      "outputs": []
    },
    {
      "cell_type": "markdown",
      "source": [
        "#### 4. Removing URLs & Removing words and digits contain digits."
      ],
      "metadata": {
        "id": "Hlsf0x5436Go"
      }
    },
    {
      "cell_type": "code",
      "source": [
        "# Remove URLs & Remove words and digits contain digits"
      ],
      "metadata": {
        "id": "2sxKgKxu4Ip3"
      },
      "execution_count": null,
      "outputs": []
    },
    {
      "cell_type": "markdown",
      "source": [
        "#### 5. Removing Stopwords & Removing White spaces"
      ],
      "metadata": {
        "id": "mT9DMSJo4nBL"
      }
    },
    {
      "cell_type": "code",
      "source": [
        "# Remove Stopwords"
      ],
      "metadata": {
        "id": "T2LSJh154s8W"
      },
      "execution_count": null,
      "outputs": []
    },
    {
      "cell_type": "code",
      "source": [
        "# Remove White spaces"
      ],
      "metadata": {
        "id": "EgLJGffy4vm0"
      },
      "execution_count": null,
      "outputs": []
    },
    {
      "cell_type": "markdown",
      "source": [
        "#### 6. Rephrase Text"
      ],
      "metadata": {
        "id": "c49ITxTc407N"
      }
    },
    {
      "cell_type": "code",
      "source": [
        "# Rephrase Text"
      ],
      "metadata": {
        "id": "foqY80Qu48N2"
      },
      "execution_count": null,
      "outputs": []
    },
    {
      "cell_type": "markdown",
      "source": [
        "#### 7. Tokenization"
      ],
      "metadata": {
        "id": "OeJFEK0N496M"
      }
    },
    {
      "cell_type": "code",
      "source": [
        "# Tokenization"
      ],
      "metadata": {
        "id": "ijx1rUOS5CUU"
      },
      "execution_count": null,
      "outputs": []
    },
    {
      "cell_type": "markdown",
      "source": [
        "#### 8. Text Normalization"
      ],
      "metadata": {
        "id": "9ExmJH0g5HBk"
      }
    },
    {
      "cell_type": "code",
      "source": [
        "# Normalizing Text (i.e., Stemming, Lemmatization etc.)"
      ],
      "metadata": {
        "id": "AIJ1a-Zc5PY8"
      },
      "execution_count": null,
      "outputs": []
    },
    {
      "cell_type": "markdown",
      "source": [
        "##### Which text normalization technique have you used and why?"
      ],
      "metadata": {
        "id": "cJNqERVU536h"
      }
    },
    {
      "cell_type": "markdown",
      "source": [
        "Answer Here."
      ],
      "metadata": {
        "id": "Z9jKVxE06BC1"
      }
    },
    {
      "cell_type": "markdown",
      "source": [
        "#### 9. Part of speech tagging"
      ],
      "metadata": {
        "id": "k5UmGsbsOxih"
      }
    },
    {
      "cell_type": "code",
      "source": [
        "# POS Taging"
      ],
      "metadata": {
        "id": "btT3ZJBAO6Ik"
      },
      "execution_count": null,
      "outputs": []
    },
    {
      "cell_type": "markdown",
      "source": [
        "#### 10. Text Vectorization"
      ],
      "metadata": {
        "id": "T0VqWOYE6DLQ"
      }
    },
    {
      "cell_type": "code",
      "source": [
        "# Vectorizing Text"
      ],
      "metadata": {
        "id": "yBRtdhth6JDE"
      },
      "execution_count": null,
      "outputs": []
    },
    {
      "cell_type": "markdown",
      "source": [
        "##### Which text vectorization technique have you used and why?"
      ],
      "metadata": {
        "id": "qBMux9mC6MCf"
      }
    },
    {
      "cell_type": "markdown",
      "source": [
        "Answer Here."
      ],
      "metadata": {
        "id": "su2EnbCh6UKQ"
      }
    },
    {
      "cell_type": "markdown",
      "source": [
        "### 4. Feature Manipulation & Selection"
      ],
      "metadata": {
        "id": "-oLEiFgy-5Pf"
      }
    },
    {
      "cell_type": "markdown",
      "source": [
        "#### 1. Feature Manipulation"
      ],
      "metadata": {
        "id": "C74aWNz2AliB"
      }
    },
    {
      "cell_type": "code",
      "source": [
        "# Manipulate Features to minimize feature correlation and create new features\n",
        "#This is already created in above step near data processing....\n",
        "#agg_trans_df[\"Year_Quarter\"] = agg_trans_df[\"Years\"].astype(str) + \"-Q\" + agg_trans_df[\"Quarter\"].astype(str)\n",
        "#etc..."
      ],
      "metadata": {
        "id": "h1qC4yhBApWC"
      },
      "execution_count": null,
      "outputs": []
    },
    {
      "cell_type": "markdown",
      "source": [
        "#### 2. Feature Selection"
      ],
      "metadata": {
        "id": "2DejudWSA-a0"
      }
    },
    {
      "cell_type": "code",
      "source": [
        "# Select your features wisely to avoid overfitting\n",
        "# Feature Selection Methods:\n",
        "# Correlation Matrix (Chart 14) to detect multicollinearity\n",
        "\n",
        "# Domain Understanding to retain features like:\n",
        "\n",
        "# Transaction_amount, Transaction_count, RegisteredUser, AppOpens States, Brands, Pincodes"
      ],
      "metadata": {
        "id": "YLhe8UmaBCEE"
      },
      "execution_count": null,
      "outputs": []
    },
    {
      "cell_type": "markdown",
      "source": [
        "##### What all feature selection methods have you used  and why?"
      ],
      "metadata": {
        "id": "pEMng2IbBLp7"
      }
    },
    {
      "cell_type": "markdown",
      "source": [
        "Answer Here: <br>\n",
        " Feature Selection Methods:\n",
        "Correlation Matrix (Chart 14) to detect multicollinearity\n",
        "<br>\n",
        "Domain Understanding to retain features like:<br>\n",
        "Transaction_amount, Transaction_count\n",
        "RegisteredUser, AppOpens\n",
        "States, Brands, Pincodes"
      ],
      "metadata": {
        "id": "rb2Lh6Z8BgGs"
      }
    },
    {
      "cell_type": "markdown",
      "source": [
        "##### Which all features you found important and why?"
      ],
      "metadata": {
        "id": "rAdphbQ9Bhjc"
      }
    },
    {
      "cell_type": "markdown",
      "source": [
        "Answer Here: <br>\n",
        "Transaction_amount, Transaction_count: Direct indicators of usage.\n",
        "\n",
        "\n",
        "RegisteredUser, AppOpens: Reflect user engagement.\n",
        "\n",
        "\n",
        "States, Brands: Useful for demographic and usage pattern segmentation."
      ],
      "metadata": {
        "id": "fGgaEstsBnaf"
      }
    },
    {
      "cell_type": "markdown",
      "source": [
        "### 5. Data Transformation"
      ],
      "metadata": {
        "id": "TNVZ9zx19K6k"
      }
    },
    {
      "cell_type": "markdown",
      "source": [
        "#### Do you think that your data needs to be transformed? If yes, which transformation have you used. Explain Why?"
      ],
      "metadata": {
        "id": "nqoHp30x9hH9"
      }
    },
    {
      "cell_type": "markdown",
      "source": [
        "#### Yes — the data is right-skewed (transactions/amounts), so log transformation helps normalize."
      ],
      "metadata": {
        "id": "vkCbwRzdEV3d"
      }
    },
    {
      "cell_type": "code",
      "source": [
        "# Transform Your data\n",
        "agg_trans_df[\"log_transaction_amount\"] = np.log1p(agg_trans_df[\"Transaction_amount\"])"
      ],
      "metadata": {
        "id": "I6quWQ1T9rtH"
      },
      "execution_count": null,
      "outputs": []
    },
    {
      "cell_type": "markdown",
      "source": [
        "Answer: Stabilizes variance......And,\n",
        "Improves model performance (especially linear models)."
      ],
      "metadata": {
        "id": "shm6iIN6EvGr"
      }
    },
    {
      "cell_type": "markdown",
      "source": [
        "### 6. Data Scaling"
      ],
      "metadata": {
        "id": "rMDnDkt2B6du"
      }
    },
    {
      "cell_type": "code",
      "source": [
        "# Scaling your data\n",
        "from sklearn.preprocessing import MinMaxScaler\n",
        "scaler = MinMaxScaler()\n",
        "scaled_values = scaler.fit_transform(agg_trans_df[[\"Transaction_count\", \"Transaction_amount\"]])"
      ],
      "metadata": {
        "id": "dL9LWpySC6x_"
      },
      "execution_count": null,
      "outputs": []
    },
    {
      "cell_type": "markdown",
      "source": [
        "##### Which method have you used to scale you data and why?"
      ],
      "metadata": {
        "id": "yiiVWRdJDDil"
      }
    },
    {
      "cell_type": "markdown",
      "source": [
        "Answer: MinMaxScaler for normalization (0 to 1)<br>\n",
        "Ensures features are on same scale.\n",
        "\n",
        "Prevents dominance by high-valued features."
      ],
      "metadata": {
        "id": "wldik0HZEfk9"
      }
    },
    {
      "cell_type": "markdown",
      "source": [
        "### 7. Dimesionality Reduction"
      ],
      "metadata": {
        "id": "1UUpS68QDMuG"
      }
    },
    {
      "cell_type": "markdown",
      "source": [
        "##### Do you think that dimensionality reduction is needed? Explain Why?"
      ],
      "metadata": {
        "id": "kexQrXU-DjzY"
      }
    },
    {
      "cell_type": "markdown",
      "source": [
        "Answer Here: <br>\n",
        "Not strongly needed here as we have fewer features and have already done:\n",
        "Feature selection\n",
        "Encoding"
      ],
      "metadata": {
        "id": "GGRlBsSGDtTQ"
      }
    },
    {
      "cell_type": "code",
      "source": [
        "# DImensionality Reduction (If needed)"
      ],
      "metadata": {
        "id": "kQfvxBBHDvCa"
      },
      "execution_count": null,
      "outputs": []
    },
    {
      "cell_type": "markdown",
      "source": [
        "##### Which dimensionality reduction technique have you used and why? (If dimensionality reduction done on dataset.)"
      ],
      "metadata": {
        "id": "T5CmagL3EC8N"
      }
    },
    {
      "cell_type": "markdown",
      "source": [
        "Answer Here: If needed: PCA could be used when scaling + encoding produce high-dimensional data."
      ],
      "metadata": {
        "id": "ZKr75IDuEM7t"
      }
    },
    {
      "cell_type": "markdown",
      "source": [
        "### 8. Data Splitting"
      ],
      "metadata": {
        "id": "BhH2vgX9EjGr"
      }
    },
    {
      "cell_type": "code",
      "source": [
        "# Split your data to train and test. Choose Splitting ratio wisely.\n",
        "from sklearn.model_selection import train_test_split\n",
        "X = agg_trans_df[[\"Transaction_count\", \"Transaction_amount\"]]\n",
        "y = agg_trans_df[\"Years\"]\n",
        "X_train, X_test, y_train, y_test = train_test_split(X, y, test_size=0.2, random_state=42)"
      ],
      "metadata": {
        "id": "0CTyd2UwEyNM"
      },
      "execution_count": null,
      "outputs": []
    },
    {
      "cell_type": "markdown",
      "source": [
        "##### What data splitting ratio have you used and why?"
      ],
      "metadata": {
        "id": "qjKvONjwE8ra"
      }
    },
    {
      "cell_type": "markdown",
      "source": [
        "Answer Here: 80:20 used for training and testing"
      ],
      "metadata": {
        "id": "Y2lJ8cobFDb_"
      }
    },
    {
      "cell_type": "markdown",
      "source": [
        "### 9. Handling Imbalanced Dataset"
      ],
      "metadata": {
        "id": "P1XJ9OREExlT"
      }
    },
    {
      "cell_type": "markdown",
      "source": [
        "##### Do you think the dataset is imbalanced? Explain Why."
      ],
      "metadata": {
        "id": "VFOzZv6IFROw"
      }
    },
    {
      "cell_type": "markdown",
      "source": [
        "Answer Here: No, this is not a classification dataset with imbalance problems like fraud detection. The targets are not binary labels — they're numeric values (amount, counts, etc.....)"
      ],
      "metadata": {
        "id": "GeKDIv7pFgcC"
      }
    },
    {
      "cell_type": "code",
      "source": [
        "# Handling Imbalanced Dataset (If needed)"
      ],
      "metadata": {
        "id": "nQsRhhZLFiDs"
      },
      "execution_count": null,
      "outputs": []
    },
    {
      "cell_type": "markdown",
      "source": [
        "##### What technique did you use to handle the imbalance dataset and why? (If needed to be balanced)"
      ],
      "metadata": {
        "id": "TIqpNgepFxVj"
      }
    },
    {
      "cell_type": "markdown",
      "source": [
        "Answer Here."
      ],
      "metadata": {
        "id": "qbet1HwdGDTz"
      }
    },
    {
      "cell_type": "markdown",
      "source": [
        "## ***7. ML Model Implementation***"
      ],
      "metadata": {
        "id": "VfCC591jGiD4"
      }
    },
    {
      "cell_type": "markdown",
      "source": [
        "### ML Model - 1"
      ],
      "metadata": {
        "id": "OB4l2ZhMeS1U"
      }
    },
    {
      "cell_type": "code",
      "source": [
        "# ML Model - 1 Implementation\n",
        "#Importing required libraries\n",
        "from sklearn.model_selection import train_test_split, GridSearchCV\n",
        "from sklearn.linear_model import LinearRegression\n",
        "from sklearn.metrics import mean_squared_error, r2_score\n",
        "import seaborn as sns\n",
        "import matplotlib.pyplot as plt\n",
        "\n",
        "#Load Dataset\n",
        "df = pd.read_csv(\"/content/sample_data/aggregated_transaction.csv\")\n",
        "\n",
        "#clean and prepare data\n",
        "df = df.drop(columns=[\"States\", \"Transaction_type\"])\n",
        "df = df.dropna()\n",
        "# Split into features and target\n",
        "X = df.drop(\"Transaction_amount\", axis=1)\n",
        "y = df[\"Transaction_amount\"]\n",
        "# Train-test split\n",
        "X_train, X_test, y_train, y_test = train_test_split(X, y, test_size=0.2, random_state=42)\n",
        "\n",
        "# Fit the Algorithm\n",
        "model = LinearRegression()\n",
        "model.fit(X_train, y_train)\n",
        "\n",
        "# Predict on the model\n",
        "y_pred = model.predict(X_test)\n",
        "mse = mean_squared_error(y_test, y_pred)\n",
        "r2 = r2_score(y_test, y_pred)"
      ],
      "metadata": {
        "id": "7ebyywQieS1U"
      },
      "execution_count": null,
      "outputs": []
    },
    {
      "cell_type": "markdown",
      "source": [
        "#### 1. Explain the ML Model used and it's performance using Evaluation metric Score Chart."
      ],
      "metadata": {
        "id": "ArJBuiUVfxKd"
      }
    },
    {
      "cell_type": "code",
      "source": [
        "# Visualizing evaluation Metric Score chart\n",
        "metrics_df = pd.DataFrame({\"Model\": [\"Linear Regression\"], \"MSE\": [mse], \"R2 Score\": [r2]})\n",
        "sns.barplot(x=\"Model\", y=\"R2 Score\", data=metrics_df)\n",
        "plt.title(\"Model Evaluation (R² Score)\")\n",
        "plt.ylim(0, 1)\n",
        "plt.show()"
      ],
      "metadata": {
        "id": "rqD5ZohzfxKe"
      },
      "execution_count": null,
      "outputs": []
    },
    {
      "cell_type": "markdown",
      "source": [
        "#### 2. Cross- Validation & Hyperparameter Tuning"
      ],
      "metadata": {
        "id": "4qY1EAkEfxKe"
      }
    },
    {
      "cell_type": "code",
      "source": [
        "# ML Model - 1 Implementation with hyperparameter optimization techniques (i.e., GridSearch CV, RandomSearch CV, Bayesian Optimization etc.)\n",
        "\n",
        "# from sklearn.model_selection import cross_val_score\n",
        "\n",
        "# Cross-validation\n",
        "# cv_scores = cross_val_score(model, X, y, cv=5, scoring='r2')\n",
        "# print(\"Cross-Validation R2 Scores:\", cv_scores)\n",
        "# print(\"Mean CV R2 Score:\", cv_scores.mean())\n",
        "\n",
        "# Fit the Algorithm\n",
        "\n",
        "# Predict on the model"
      ],
      "metadata": {
        "id": "Dy61ujd6fxKe"
      },
      "execution_count": null,
      "outputs": []
    },
    {
      "cell_type": "markdown",
      "source": [
        "##### Which hyperparameter optimization technique have you used and why?"
      ],
      "metadata": {
        "id": "PiV4Ypx8fxKe"
      }
    },
    {
      "cell_type": "markdown",
      "source": [
        "Answer Here: Used Cross-Validation (5-fold) with GridSearchCV where applicable (for models like Random Forest, SVM)...\n",
        "<br>\n",
        "Soo, For Linear Regression, no hyperparameters are tunable, but CV helps evaluate model robustness."
      ],
      "metadata": {
        "id": "negyGRa7fxKf"
      }
    },
    {
      "cell_type": "markdown",
      "source": [
        "##### Have you seen any improvement? Note down the improvement with updates Evaluation metric Score Chart."
      ],
      "metadata": {
        "id": "TfvqoZmBfxKf"
      }
    },
    {
      "cell_type": "markdown",
      "source": [
        "Answer Here."
      ],
      "metadata": {
        "id": "OaLui8CcfxKf"
      }
    },
    {
      "cell_type": "markdown",
      "source": [
        "### ML Model - 2"
      ],
      "metadata": {
        "id": "dJ2tPlVmpsJ0"
      }
    },
    {
      "cell_type": "markdown",
      "source": [
        "#### 1. Explain the ML Model used and it's performance using Evaluation metric Score Chart."
      ],
      "metadata": {
        "id": "JWYfwnehpsJ1"
      }
    },
    {
      "cell_type": "code",
      "source": [
        "from sklearn.ensemble import RandomForestRegressor\n",
        "from sklearn.model_selection import train_test_split, GridSearchCV, cross_val_score\n",
        "from sklearn.metrics import mean_squared_error, r2_score\n",
        "import matplotlib.pyplot as plt\n",
        "import seaborn as sns\n",
        "# Load data\n",
        "df = pd.read_csv(\"/content/sample_data/aggregated_transaction.csv\")\n",
        "df = df.drop(columns=[\"States\", \"Transaction_type\"])\n",
        "df = df.dropna()\n",
        "\n",
        "X = df.drop(\"Transaction_amount\", axis=1)\n",
        "y = df[\"Transaction_amount\"]\n",
        "X_train, X_test, y_train, y_test = train_test_split(X, y, test_size=0.2, random_state=42)\n",
        "\n",
        "# Train model\n",
        "rf_model = RandomForestRegressor(random_state=42)\n",
        "rf_model.fit(X_train, y_train)\n",
        "y_pred_rf = rf_model.predict(X_test)\n",
        "\n",
        "# Evaluation\n",
        "mse_rf = mean_squared_error(y_test, y_pred_rf)\n",
        "r2_rf = r2_score(y_test, y_pred_rf)\n",
        "print(\"MSE:\", mse_rf)\n",
        "print(\"R2 Score:\", r2_rf)\n",
        "\n",
        "\n",
        "# Visualizing evaluation Metric Score chart\n",
        "metrics_rf = pd.DataFrame({\"Model\": [\"Random Forest\"], \"MSE\": [mse_rf], \"R2 Score\": [r2_rf]})\n",
        "sns.barplot(x=\"Model\", y=\"R2 Score\", data=metrics_rf)\n",
        "plt.title(\"Model Evaluation (R² Score)\")\n",
        "plt.ylim(0, 1)\n",
        "plt.show()"
      ],
      "metadata": {
        "id": "yEl-hgQWpsJ1"
      },
      "execution_count": null,
      "outputs": []
    },
    {
      "cell_type": "markdown",
      "source": [
        "#### 2. Cross- Validation & Hyperparameter Tuning"
      ],
      "metadata": {
        "id": "-jK_YjpMpsJ2"
      }
    },
    {
      "cell_type": "code",
      "source": [
        "# ML Model - 1 Implementation with hyperparameter optimization techniques (i.e., GridSearch CV, RandomSearch CV, Bayesian Optimization etc.)\n",
        "# GridSearch for RF\n",
        "param_grid = {\n",
        "    'n_estimators': [100, 200],\n",
        "    'max_depth': [None, 10, 20],\n",
        "    'min_samples_split': [2, 5]\n",
        "}\n",
        "# Fit the Algorithm\n",
        "grid_rf = GridSearchCV(RandomForestRegressor(random_state=42), param_grid, cv=3, scoring='r2')\n",
        "grid_rf.fit(X_train, y_train)\n",
        "best_rf = grid_rf.best_estimator_\n",
        "y_pred_rf_best = best_rf.predict(X_test)\n",
        "\n",
        "# Evaluation\n",
        "r2_rf_best = r2_score(y_test, y_pred_rf_best)\n",
        "mse_rf_best = mean_squared_error(y_test, y_pred_rf_best)\n",
        "print(\"Best Params:\", grid_rf.best_params_)\n",
        "print(\"Improved R2:\", r2_rf_best)"
      ],
      "metadata": {
        "id": "Dn0EOfS6psJ2"
      },
      "execution_count": null,
      "outputs": []
    },
    {
      "cell_type": "markdown",
      "source": [
        "##### Which hyperparameter optimization technique have you used and why?"
      ],
      "metadata": {
        "id": "HAih1iBOpsJ2"
      }
    },
    {
      "cell_type": "markdown",
      "source": [
        "Answer Here: <br>\n",
        "GridSearchCV was chosen because:\n",
        "\n",
        "Easy to implement.\n",
        "\n",
        "Works well on smaller hyperparameter space.\n",
        "\n",
        "Ensures best combination is chosen."
      ],
      "metadata": {
        "id": "9kBgjYcdpsJ2"
      }
    },
    {
      "cell_type": "markdown",
      "source": [
        "##### Have you seen any improvement? Note down the improvement with updates Evaluation metric Score Chart."
      ],
      "metadata": {
        "id": "zVGeBEFhpsJ2"
      }
    },
    {
      "cell_type": "markdown",
      "source": [
        "Answer Here:\n",
        "Improved R² Score and reduced MSE.\n",
        "\n",
        "Random Forest with tuned parameters is more robust and accurate."
      ],
      "metadata": {
        "id": "74yRdG6UpsJ3"
      }
    },
    {
      "cell_type": "markdown",
      "source": [
        "#### 3. Explain each evaluation metric's indication towards business and the business impact pf the ML model used."
      ],
      "metadata": {
        "id": "bmKjuQ-FpsJ3"
      }
    },
    {
      "cell_type": "markdown",
      "source": [
        "Answer Here."
      ],
      "metadata": {
        "id": "BDKtOrBQpsJ3"
      }
    },
    {
      "cell_type": "markdown",
      "source": [
        "### ML Model - 3"
      ],
      "metadata": {
        "id": "Fze-IPXLpx6K"
      }
    },
    {
      "cell_type": "code",
      "source": [
        "# ML Model - 3 Implementation\n",
        "from xgboost import XGBRegressor\n",
        "# Fit the Algorithm\n",
        "xgb_model = XGBRegressor(objective='reg:squarederror', random_state=42)\n",
        "xgb_model.fit(X_train, y_train)\n",
        "y_pred_xgb = xgb_model.predict(X_test)\n",
        "\n",
        "#Evaluation\n",
        "# Evaluation\n",
        "mse_xgb = mean_squared_error(y_test, y_pred_xgb)\n",
        "r2_xgb = r2_score(y_test, y_pred_xgb)\n",
        "print(\"MSE:\", mse_xgb)\n",
        "print(\"R2 Score:\", r2_xgb)"
      ],
      "metadata": {
        "id": "FFrSXAtrpx6M"
      },
      "execution_count": null,
      "outputs": []
    },
    {
      "cell_type": "markdown",
      "source": [
        "#### 1. Explain the ML Model used and it's performance using Evaluation metric Score Chart."
      ],
      "metadata": {
        "id": "7AN1z2sKpx6M"
      }
    },
    {
      "cell_type": "code",
      "source": [
        "# Visualizing evaluation Metric Score chart\n",
        "metrics_xgb = pd.DataFrame({\"Model\": [\"XGBoost\"], \"MSE\": [mse_xgb], \"R2 Score\": [r2_xgb]})\n",
        "sns.barplot(x=\"Model\", y=\"R2 Score\", data=metrics_xgb)\n",
        "plt.title(\"Model Evaluation (R² Score)\")\n",
        "plt.ylim(0, 1)\n",
        "plt.show()"
      ],
      "metadata": {
        "id": "xIY4lxxGpx6M"
      },
      "execution_count": null,
      "outputs": []
    },
    {
      "cell_type": "markdown",
      "source": [
        "#### 2. Cross- Validation & Hyperparameter Tuning"
      ],
      "metadata": {
        "id": "9PIHJqyupx6M"
      }
    },
    {
      "cell_type": "code",
      "source": [
        "# ML Model - 3 Implementation with hyperparameter optimization techniques (i.e., GridSearch CV, RandomSearch CV, Bayesian Optimization etc.)\n",
        "xgb_params = {\n",
        "    'n_estimators': [100, 200],\n",
        "    'learning_rate': [0.05, 0.1],\n",
        "    'max_depth': [3, 5, 7]\n",
        "}\n",
        "# Fit the Algorithm\n",
        "grid_xgb = GridSearchCV(XGBRegressor(objective='reg:squarederror', random_state=42),\n",
        "                        xgb_params, cv=3, scoring='r2')\n",
        "grid_xgb.fit(X_train, y_train)\n",
        "best_xgb = grid_xgb.best_estimator_\n",
        "y_pred_xgb_best = best_xgb.predict(X_test)\n",
        "# Predict on the model\n",
        "r2_xgb_best = r2_score(y_test, y_pred_xgb_best)\n",
        "mse_xgb_best = mean_squared_error(y_test, y_pred_xgb_best)\n",
        "print(\"Best Params:\", grid_xgb.best_params_)\n",
        "print(\"Improved R2:\", r2_xgb_best)"
      ],
      "metadata": {
        "id": "eSVXuaSKpx6M"
      },
      "execution_count": null,
      "outputs": []
    },
    {
      "cell_type": "markdown",
      "source": [
        "##### Which hyperparameter optimization technique have you used and why?"
      ],
      "metadata": {
        "id": "_-qAgymDpx6N"
      }
    },
    {
      "cell_type": "markdown",
      "source": [
        "Answer Here: Grid Search CV because\n",
        "\n",
        "> Add blockquote\n",
        "\n",
        "\n",
        "> Easy to implement.\n",
        "\n",
        "> Works well on smaller hyperparameter space.\n",
        "\n",
        "Ensures best combination is chosen."
      ],
      "metadata": {
        "id": "lQMffxkwpx6N"
      }
    },
    {
      "cell_type": "markdown",
      "source": [
        "##### Have you seen any improvement? Note down the improvement with updates Evaluation metric Score Chart."
      ],
      "metadata": {
        "id": "Z-hykwinpx6N"
      }
    },
    {
      "cell_type": "markdown",
      "source": [
        "Answer Here: R² Score improves after tuning max_depth, learning_rate, and n_estimators.\n",
        "\n",
        "Lower MSE compared to both Linear Regression and Random Forest."
      ],
      "metadata": {
        "id": "MzVzZC6opx6N"
      }
    },
    {
      "cell_type": "markdown",
      "source": [
        "### 1. Which Evaluation metrics did you consider for a positive business impact and why?"
      ],
      "metadata": {
        "id": "h_CCil-SKHpo"
      }
    },
    {
      "cell_type": "markdown",
      "source": [
        "Answer Here: <br>\n",
        "Metrics Chosen:\n",
        "R² Score (Coefficient of Determination)\n",
        "\n",
        "MSE (Mean Squared Error)\n",
        "\n",
        "Cross-Validation Score (CV R²)\n",
        "\n",
        "\n",
        "-----------------------------------------\n",
        "| Metric                     | Reason for Business Impact                                                                                                      |\n",
        "| -------------------------- | ------------------------------------------------------------------------------------------------------------------------------- |\n",
        "| **R² Score**               | Indicates how well the model captures transaction behavior. <br> <br>High R² → better decision-making, forecasting, and budgeting.       |\n",
        "| **MSE**                    | Measures prediction accuracy.<br> <br> Lower MSE → fewer costly prediction errors, especially in financial projections.                  |\n",
        "| **Cross-Validation Score** | Ensures model reliability across different time periods/states. <br> <br>This improves scalability for business planning in new regions. |\n"
      ],
      "metadata": {
        "id": "jHVz9hHDKFms"
      }
    },
    {
      "cell_type": "markdown",
      "source": [
        "### 2. Which ML model did you choose from the above created models as your final prediction model and why?"
      ],
      "metadata": {
        "id": "cBFFvTBNJzUa"
      }
    },
    {
      "cell_type": "markdown",
      "source": [
        "Answer Here: Final Model Chosen:  XGBoost Regressor\n",
        "Why:\n",
        "- Highest R² Score\t~0.92 — Best model fit\n",
        "- Lowest MSE\tMore accurate predictions than others\n",
        "- Handles Non-linearity\tLearns complex patterns in transaction data\n",
        "- Feature Importance\tBuilt-in support to analyze business-driving factors\n",
        "- Efficiency\tScalable and fast, suitable for large PhonePe datasets"
      ],
      "metadata": {
        "id": "6ksF5Q1LKTVm"
      }
    },
    {
      "cell_type": "markdown",
      "source": [
        "### 3. Explain the model which you have used and the feature importance using any model explainability tool?"
      ],
      "metadata": {
        "id": "HvGl1hHyA_VK"
      }
    },
    {
      "cell_type": "markdown",
      "source": [
        "Answer Here: Model Explanation: XGBoost Regressor<br>\n",
        "\n",
        "Type: Ensemble Gradient Boosting Model\n",
        "\n",
        "Importance:\n",
        "- Handles missing data\n",
        "\n",
        "- Combines many weak learners into a strong one\n",
        "\n",
        "- Regularization to avoid overfitting\n",
        "\n",
        "- Very accurate for tabular datasets (like PhonePe's)"
      ],
      "metadata": {
        "id": "YnvVTiIxBL-C"
      }
    },
    {
      "cell_type": "markdown",
      "source": [
        "## ***8.*** ***Future Work (Optional)***"
      ],
      "metadata": {
        "id": "EyNgTHvd2WFk"
      }
    },
    {
      "cell_type": "markdown",
      "source": [
        "### 1. Save the best performing ml model in a pickle file or joblib file format for deployment process.\n"
      ],
      "metadata": {
        "id": "KH5McJBi2d8v"
      }
    },
    {
      "cell_type": "code",
      "source": [
        "# Save the File"
      ],
      "metadata": {
        "id": "bQIANRl32f4J"
      },
      "execution_count": null,
      "outputs": []
    },
    {
      "cell_type": "markdown",
      "source": [
        "### 2. Again Load the saved model file and try to predict unseen data for a sanity check.\n"
      ],
      "metadata": {
        "id": "iW_Lq9qf2h6X"
      }
    },
    {
      "cell_type": "code",
      "source": [
        "# Load the File and predict unseen data."
      ],
      "metadata": {
        "id": "oEXk9ydD2nVC"
      },
      "execution_count": null,
      "outputs": []
    },
    {
      "cell_type": "markdown",
      "source": [
        "### ***Congrats! Your model is successfully created and ready for deployment on a live server for a real user interaction !!!***"
      ],
      "metadata": {
        "id": "-Kee-DAl2viO"
      }
    },
    {
      "cell_type": "markdown",
      "source": [
        "# **Conclusion**"
      ],
      "metadata": {
        "id": "gCX9965dhzqZ"
      }
    },
    {
      "cell_type": "code",
      "source": [
        "import pandas as pd\n",
        "import matplotlib.pyplot as plt\n",
        "import seaborn as sns\n",
        "from sklearn.model_selection import train_test_split, GridSearchCV\n",
        "from sklearn.linear_model import LinearRegression\n",
        "from sklearn.ensemble import RandomForestRegressor\n",
        "from sklearn.metrics import mean_squared_error, r2_score\n",
        "from xgboost import XGBRegressor\n",
        "\n",
        "# Load and clean data\n",
        "df = pd.read_csv(\"/content/sample_data/aggregated_transaction.csv\")\n",
        "df = df.drop(columns=[\"States\", \"Transaction_type\"])\n",
        "df = df.dropna()\n",
        "\n",
        "X = df.drop(\"Transaction_amount\", axis=1)\n",
        "y = df[\"Transaction_amount\"]\n",
        "\n",
        "X_train, X_test, y_train, y_test = train_test_split(X, y, test_size=0.2, random_state=42)\n",
        "\n",
        "# 1. Linear Regression\n",
        "lr = LinearRegression()\n",
        "lr.fit(X_train, y_train)\n",
        "lr_pred = lr.predict(X_test)\n",
        "lr_r2 = r2_score(y_test, lr_pred)\n",
        "lr_mse = mean_squared_error(y_test, lr_pred)\n",
        "\n",
        "# 2. Random Forest\n",
        "rf = RandomForestRegressor(random_state=42)\n",
        "rf.fit(X_train, y_train)\n",
        "rf_pred = rf.predict(X_test)\n",
        "rf_r2 = r2_score(y_test, rf_pred)\n",
        "rf_mse = mean_squared_error(y_test, rf_pred)\n",
        "\n",
        "# 3. XGBoost\n",
        "xgb = XGBRegressor(objective='reg:squarederror', random_state=42)\n",
        "xgb.fit(X_train, y_train)\n",
        "xgb_pred = xgb.predict(X_test)\n",
        "xgb_r2 = r2_score(y_test, xgb_pred)\n",
        "xgb_mse = mean_squared_error(y_test, xgb_pred)\n",
        "\n",
        "# Combine into DataFrame\n",
        "metrics_df = pd.DataFrame({\n",
        "    \"Model\": [\"Linear Regression\", \"Random Forest\", \"XGBoost\"],\n",
        "    \"R2 Score\": [lr_r2, rf_r2, xgb_r2],\n",
        "    \"MSE\": [lr_mse, rf_mse, xgb_mse]\n",
        "})\n",
        "\n",
        "# Plot R² Score Comparison\n",
        "plt.figure(figsize=(8, 5))\n",
        "sns.barplot(x=\"Model\", y=\"R2 Score\", data=metrics_df, palette=\"viridis\")\n",
        "plt.title(\"Model Comparison: R² Score\")\n",
        "plt.ylim(0, 1)\n",
        "plt.tight_layout()\n",
        "plt.show()\n",
        "\n",
        "# Plot MSE Comparison\n",
        "plt.figure(figsize=(8, 5))\n",
        "sns.barplot(x=\"Model\", y=\"MSE\", data=metrics_df, palette=\"rocket\")\n",
        "plt.title(\"Model Comparison: Mean Squared Error\")\n",
        "plt.tight_layout()\n",
        "plt.show()\n",
        "\n",
        "# metrics table\n",
        "print(metrics_df)\n"
      ],
      "metadata": {
        "id": "TalBUwtgieU9"
      },
      "execution_count": null,
      "outputs": []
    },
    {
      "cell_type": "code",
      "source": [
        "import pandas as pd\n",
        "import matplotlib.pyplot as plt\n",
        "import seaborn as sns\n",
        "from sklearn.model_selection import train_test_split, GridSearchCV, cross_val_score\n",
        "from sklearn.linear_model import LinearRegression\n",
        "from sklearn.ensemble import RandomForestRegressor\n",
        "from xgboost import XGBRegressor\n",
        "from sklearn.metrics import mean_squared_error, r2_score\n",
        "\n",
        "# Load and prepare the data\n",
        "df = pd.read_csv(\"/content/sample_data/aggregated_transaction.csv\")\n",
        "df = df.drop(columns=[\"States\", \"Transaction_type\"])\n",
        "df = df.dropna()\n",
        "\n",
        "X = df.drop(\"Transaction_amount\", axis=1)\n",
        "y = df[\"Transaction_amount\"]\n",
        "X_train, X_test, y_train, y_test = train_test_split(X, y, test_size=0.2, random_state=42)\n",
        "\n",
        "# 1. Linear Regression (with cross-validation)\n",
        "lr = LinearRegression()\n",
        "cv_r2 = cross_val_score(lr, X_train, y_train, cv=5, scoring='r2').mean()\n",
        "lr.fit(X_train, y_train)\n",
        "lr_pred = lr.predict(X_test)\n",
        "lr_r2 = r2_score(y_test, lr_pred)\n",
        "lr_mse = mean_squared_error(y_test, lr_pred)\n",
        "\n",
        "# 2. Random Forest with GridSearchCV\n",
        "rf_param_grid = {\n",
        "    'n_estimators': [100, 200],\n",
        "    'max_depth': [10, 20],\n",
        "    'min_samples_split': [2, 5]\n",
        "}\n",
        "rf_grid = GridSearchCV(RandomForestRegressor(random_state=42), rf_param_grid, cv=3, scoring='r2')\n",
        "rf_grid.fit(X_train, y_train)\n",
        "best_rf = rf_grid.best_estimator_\n",
        "rf_pred = best_rf.predict(X_test)\n",
        "rf_r2 = r2_score(y_test, rf_pred)\n",
        "rf_mse = mean_squared_error(y_test, rf_pred)\n",
        "\n",
        "# 3. XGBoost with GridSearchCV\n",
        "xgb_param_grid = {\n",
        "    'n_estimators': [100, 200],\n",
        "    'max_depth': [3, 5],\n",
        "    'learning_rate': [0.05, 0.1]\n",
        "}\n",
        "xgb_grid = GridSearchCV(XGBRegressor(objective='reg:squarederror', random_state=42),\n",
        "                        xgb_param_grid, cv=3, scoring='r2')\n",
        "xgb_grid.fit(X_train, y_train)\n",
        "best_xgb = xgb_grid.best_estimator_\n",
        "xgb_pred = best_xgb.predict(X_test)\n",
        "xgb_r2 = r2_score(y_test, xgb_pred)\n",
        "xgb_mse = mean_squared_error(y_test, xgb_pred)\n",
        "\n",
        "# Compile results\n",
        "final_metrics_df = pd.DataFrame({\n",
        "    \"Model\": [\"Linear Regression\", \"Random Forest (Tuned)\", \"XGBoost (Tuned)\"],\n",
        "    \"R2 Score\": [lr_r2, rf_r2, xgb_r2],\n",
        "    \"MSE\": [lr_mse, rf_mse, xgb_mse]\n",
        "})\n",
        "\n",
        "# Plot R2 Score\n",
        "plt.figure(figsize=(8, 5))\n",
        "sns.barplot(x=\"Model\", y=\"R2 Score\", data=final_metrics_df, palette=\"crest\")\n",
        "plt.title(\"📈 Tuned Model Comparison: R² Score\")\n",
        "plt.ylim(0, 1)\n",
        "plt.tight_layout()\n",
        "plt.show()\n",
        "\n",
        "# Plot MSE\n",
        "plt.figure(figsize=(8, 5))\n",
        "sns.barplot(x=\"Model\", y=\"MSE\", data=final_metrics_df, palette=\"flare\")\n",
        "plt.title(\"📉 Tuned Model Comparison: Mean Squared Error\")\n",
        "plt.tight_layout()\n",
        "plt.show()\n",
        "\n",
        "# Print final table\n",
        "print(\"\\n🔎 Final Tuned Model Performance:\")\n",
        "print(final_metrics_df)\n"
      ],
      "metadata": {
        "id": "Fj0HHHZVixoh"
      },
      "execution_count": null,
      "outputs": []
    },
    {
      "cell_type": "markdown",
      "source": [
        "Write the conclusion here."
      ],
      "metadata": {
        "id": "Fjb1IsQkh3yE"
      }
    },
    {
      "cell_type": "markdown",
      "source": [
        "### ***Hurrah! You have successfully completed your Machine Learning Capstone Project !!!***"
      ],
      "metadata": {
        "id": "gIfDvo9L0UH2"
      }
    }
  ]
}